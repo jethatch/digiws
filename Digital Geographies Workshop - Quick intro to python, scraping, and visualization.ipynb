{
 "cells": [
  {
   "cell_type": "markdown",
   "id": "0d903a32",
   "metadata": {},
   "source": [
    "# A very basic introduction to python, notebooks, data scraping with chatgpt, and some quick visualization/analysis\n",
    "\n",
    "Hi all, first, I want to apologize for not making it; I was very much looking forward to seeing/meeting all of you. Second, I want to stress that *since I wasn't quite sure who all would be in attendance*, I wanted to make this a very open introduction.\n",
    "\n",
    "Some of you may already know how to do all this (and much more), some of you may never have touched python before in your life. No worries either way. I'm going to try to keep this as self contained as possible. I'm sure there will be questions and I'm sure I'm going to make some mistakes trying to communicate all of this within the notebook itself; but, we're lucky enough to have the inimitable Ryan Burns here to help field those issues.\n",
    "\n",
    "I'm going to try to explain everything you need to know here to be as inclusive and fun as possible. Please forgive any oversights.\n",
    "\n",
    "If you enjoy this or you just want to ask some questions about whatever, you can reach me at thatchja@oregonstate.edu \n",
    "\n",
    "Here's what we're going to do:\n",
    "1. Query a public data source\n",
    "2. Geocode it.\n",
    "3. Visualize it.\n",
    "4. Compare that to ChatGPT results (not a direct comparison)"
   ]
  },
  {
   "cell_type": "markdown",
   "id": "c5bf4232",
   "metadata": {},
   "source": [
    "## First things first, what is this document and how do we interact with it?\n",
    "\n",
    "This is a [jupyter notebook](https://jupyter.org/) which is the modern derivative of what was once an ipython notebook (this is why the file extension is .ipynb). At its core, it's a nicely open-source web application that lets us write code, execute it, and intersperse it with other media including (as I'm writing here) markdown.\n",
    "\n",
    "I find it incredibly useful for distributing technical labs to students and have also used it for presentations and lectures. If you're locked into the ESRI ecosystem (no shame, some universities require it), you can actually run notebooks from within ArcGIS Pro as well. You can read more about that [here](https://www.esri.com/en-us/arcgis/products/arcgis-notebooks/overview).\n",
    "\n",
    "But, right now, you're *probably* looking at this from where I've put it in github. Github will render the notebook, but it does so as a static image and doesn't execute the code (though it will keep visualizations that were present in the file when you commit it). I'm not going to assume folx know how to interact with github, but I'm also going to skip it as it's not **really** what I want to show you today. For what it's worth, you can get a desktop application for most OSes [here](https://desktop.github.com/), but I prefer to work with command-line git because it makes me feel like a hacker in a 90s movie (you can find documentation for that [here](https://docs.gitlab.com/ee/gitlab-basics/start-using-git.html)).\n",
    "\n",
    "Something you might notice as we go on is that I'm going to provide a lot of links to documentation. That's because I'm constantly consulting it. I sincerely believe that one of the best skills one can have for working with code is the ability to parse documentation. Lame, but true. Also, I have a terrible memory.\n",
    "\n",
    "So, if you're a github wizard, feel free to grab this however you want. If you're not, go to the repository ([here](https://github.com/jethatch/digiws)), click on that green button that says 'code' and download the zip file of everything you need.\n",
    "\n",
    "Now, to be able to interact with it, we'll need to have Jupyter Notebooks installed. I am going to walk you through **one way** to do this using [Anaconda](https://www.anaconda.com/download/). There are lots of other options! You could use [miniconda](https://docs.conda.io/en/latest/miniconda.html), [mamba](https://mamba.readthedocs.io/en/latest/index.html), or even an online solution like [CoCalc](https://cocalc.com/features/jupyter-notebook).\n",
    "\n",
    "Heck, you can actually use an end-around to do this with just ArcGIS Pro installed. For folx that end up teaching/working in labs that *don't* let you install libraries, you can usually end-around this restriction if ArcPro is there by using what ESRI calls the 'Python Command Prompt' which is ultimately their branding on the Anaconda prompt (ESRI likes to ingest open-source stuff into their systems and then slap their names on it. Ask Dillon Mahmoudi about this and tell him I told you to, or not).\n",
    "\n",
    "I want to be **very clear** here: Using one approach or another doesn't make you better, harder, faster, stronger, smarter, or cooler. I strongly encourage everyone to use the tools that both make sense to them and will work for the task they have at hand. For this demonstration, I needed to pick something, so I picked this set of tools. What you should also realize (and which I'll bring up throughout this) is that each tool *does* come with a set of power relations embedded within it, a set of choices as to how it's intended to be used, and who it's intended to be used by. We'll splend plenty of time attempting to subvert some of these expectations, that doesn't mean we'll succeed. "
   ]
  },
  {
   "cell_type": "markdown",
   "id": "069a2770",
   "metadata": {},
   "source": [
    "## Finally getting started\n",
    "\n",
    "Alright, so at this point I'm going to assume that you have the notebook file downloaded and that you have Anaconda installed (or are familiar enough with another system to have chosen to use that instead).\n",
    "\n",
    "**Please note: Most of these instructions are written for Windows. Linux is pretty straightforward, but Mac OS can sometimes through a few curveballs. Check out [here](https://docs.anaconda.com/free/anaconda/install/mac-os/) on that front**. \n",
    "\n",
    "What we need to do now is:\n",
    "1. Create an environment for this workshop\n",
    "2. Install the necessary libraries\n",
    "3. Launch Jupyter\n",
    "4. Open this notebook from within Jupyter to make it fully interactive\n",
    "\n",
    "### Step 1: Creating an environment\n",
    "I'm going to do this using the Anaconda Prompt and the command line. There are many other ways, but I enjoy command line interfaces as noted above. \n",
    "\n",
    "First, open up your 'Anaconda Command Prompt' program (again, assuming you are in Windows. In Linux, you can usually just drop into your bash shell or whatever you use so long as your pathing is set up correctly, same with Mac and terminal).\n",
    "\n",
    "Type `conda create -n digiws python=3.8` and hit enter. Then confirm when prompted.\n",
    "This is going to create an [anaconda environment](https://docs.conda.io/projects/conda/en/latest/user-guide/concepts/environments.html) for everything you do with this project. You generally want to create environments for all your major projects as that will keep version conflicts between libraries to a minimum. In other words, if one of your projects needs version 3.1 of GeoPandas to work and another needs version 3.2, if you tried to work in the same environment... you'd get errors. By setting up environments for each project, you make sure that version conflicts are minimized (note, I did not say eliminated...). It's also going to install python version 3.8 into that environment. You can choose another one, I just picked 3.8 because when I originally wrote some of what comes later in this lab, that's what I happened to be using.\n",
    "\n",
    "Once that's done, you'll want to activate said environment. On Windows, you type `conda activate digiws`; on Mac/Linux, the command is `source activate digiws`. \n",
    "\n",
    "Before your drive prompt, you should now see a little `(digiws)` that lets you know which environment you have active. If you ever forget **any of this** (as I often do), the [Conda Cheat Sheet](https://docs.conda.io/projects/conda/en/4.6.0/_downloads/52a95608c49671267e40c689e0bc00ca/conda-cheatsheet.pdf) is a lifesaver.\n",
    "\n",
    "### Step 2: Installing the libraries\n",
    "\n",
    "We're going to use a few libraries today just to set up a sample workflow from scraping data, to geocoding it, to putting it on a very simple webmap. I know that's not super exciting if you've done this stuff before, but I think there are interesting questions at each step that make working through them worthwhile. I'm also going to show you how you can loop ChatGPT into your workflow if you want to.\n",
    "\n",
    "The libraries we'll use are: `jupyter, geopandas, geopy, plotly_express, and overpy`\n",
    "To install them, you type `conda install -c conda-forge jupyter geopandas geopy plotly_express overpy`\n",
    "You could leave out the `-c conda-forge` for many packages, it sets the 'channel' Anaconda looks for the packages in as conda-forge; here, we need it for GeoPy.\n",
    "\n",
    "To explain each package: jupyter is jupyter notebooks; geopandas is an [open-source GIS](https://geopandas.org/en/stable/); geopy is wrapper for various [geocoders](https://geopy.readthedocs.io/en/stable/index.html); Overpy is an [overpass turbo wrapper](https://pypi.org/project/overpy/) that lets us query OSM data; and Plotly Express is a [high-level API for Plotly](https://plotly.com/python/plotly-express/) that will help us make interactive maps, basically.\n",
    "\n",
    "What these libraries will allow us to do scrape some web data, process it a bit, then visualize it on an interactive map. \n",
    "While they install, sit back and feel like you're the star of a Hackers reboot.\n",
    "\n",
    "\n",
    "### Step 3: Launch Jupyter\n",
    "Once everything is nice and installed, type in:\n",
    "`jupyter notebook`\n",
    "\n",
    "This will open up the Jupyter navigation pane in your default web browser. I use Edge because it's so bad it makes me laugh. I recommend against this.\n",
    "\n",
    "### Step 4: Open this notebook... again\n",
    "\n",
    "Navigate to wherever you have this notebook saved using the Jupyter navigator, and double click to open this notebook. It will open in a new window and if you click on any of the cells, you'll be able to interact with them.\n",
    "\n"
   ]
  },
  {
   "cell_type": "markdown",
   "id": "785ccee6",
   "metadata": {},
   "source": [
    "## Our goal: scrape some public data, geocode it, and put it on a map\n",
    "_(then, at the end, I'll show you how to do something similar with ChatGPT)_\n",
    "\n",
    "#### The following cell is where the code begins.\n",
    "First, I will import the geopandas library.\n",
    "Then, I will use a very simple loop to iterate across an API and grab all of the data it spits back.\n",
    "I am going to use Tacoma city license data here, because I have been based out of the wonderful city of Tacoma for the past nine years. "
   ]
  },
  {
   "cell_type": "code",
   "execution_count": 8,
   "id": "e5e94edb",
   "metadata": {},
   "outputs": [
    {
     "name": "stdout",
     "output_type": "stream",
     "text": [
      "   LICENSE_NUMBER                        BUSINESS_NAME  \\\n",
      "0     500012761.0                   NISSAN-INFINITI LT   \n",
      "1     500081953.0        APOLLO MECHANICAL CONTRACTORS   \n",
      "2     500032593.0                KALLES PROPERTIES INC   \n",
      "3     500009599.0  NISSAN MOTOR ACCEPTANCE COMPANY LLC   \n",
      "4     500045940.0                           ROBIN JUPP   \n",
      "\n",
      "                            OWNER_NAME HOUSE_NUMBER_AND_STREET_NAME  \\\n",
      "0                   NISSAN-INFINITI LT                 1 NISSAN WAY   \n",
      "1                 APOLLO ENVIRONMENTAL           1207 W COLUMBIA DR   \n",
      "2           KALLES PROPERTY MANAGEMENT                  2702 E MAIN   \n",
      "3  NISSAN MOTOR ACCEPTANCE COMPANY LLC                 1 NISSAN WAY   \n",
      "4                           ROBIN JUPP               817 30TH AVE S   \n",
      "\n",
      "  UNIT_NUMBER P_O__BOX       CITY STATE    ZIP_CODE  NAICS_CODE  \\\n",
      "0         NaN      NaN   FRANKLIN    TN       37067    532112.0   \n",
      "1         NaN      NaN  KENNEWICK    WA  99336-3459    238390.0   \n",
      "2         # B      NaN   PUYALLUP    WA  98372-7049    531312.0   \n",
      "3         NaN      NaN   FRANKLIN    TN  37067-6367    522220.0   \n",
      "4         NaN      NaN    SEATTLE    WA  98144-3205    531110.0   \n",
      "\n",
      "                     NAICS_CODE_DESCRIPTION  BUSINESS_OPEN_DATE  \\\n",
      "0                     Passenger Car Leasing        9.098784e+11   \n",
      "1      Other Building Finishing Contractors        1.398902e+12   \n",
      "2          Nonresidential Property Managers        1.044058e+12   \n",
      "3                           Sales Financing        6.942240e+11   \n",
      "4  Lessors of Residential Buildings and Dwe        1.113437e+12   \n",
      "\n",
      "  Police_Sector_Subsector                         Location_1  ObjectId  \\\n",
      "0                    None   FRANKLIN, TN (Address Not Found)       1.0   \n",
      "1                    None  KENNEWICK, WA (Address Not Found)       2.0   \n",
      "2                    None   PUYALLUP, WA (Address Not Found)       3.0   \n",
      "3                    None   FRANKLIN, TN (Address Not Found)       4.0   \n",
      "4                    None    SEATTLE, WA (Address Not Found)       5.0   \n",
      "\n",
      "  geometry  \n",
      "0     None  \n",
      "1     None  \n",
      "2     None  \n",
      "3     None  \n",
      "4     None  \n",
      "28594\n"
     ]
    }
   ],
   "source": [
    "# This will take a few minutes to run. It relies on geopandas *and* pandas (installed with geopandas)\n",
    "# You'll see why you need both below\n",
    "\n",
    "import geopandas, pandas\n",
    "\n",
    "# In python, beginning a line with # will mark it as documentation and not to be executed.\n",
    "''' You can also do that for multiple lines\n",
    "    like this.\n",
    "    But, since this is really just a multi-line string, make sure you end it or you will get an error! '''\n",
    "\n",
    "# The following code is a very basic way to iterate across results to build up data through an api\n",
    "# This is a very common and not particularly elegant. Much of the code here today won't be. That's ok!\n",
    "\n",
    "# Please note, I am 'cheating' in that I KNOW how many results are in the table by looking at the metadata here:\n",
    "# https://geohub.cityoftacoma.org/datasets/tacoma::tacoma-business-license/about\n",
    "\n",
    "# Since I KNOW there are 29k entries, I am going to stop my loop once I have that many.\n",
    "# There are ways to do this WITHOUT knowing the total number of entries.\n",
    "# One common approach there is to automatically 'break' your loop when it runs out of data (results less than 1k here)\n",
    "\n",
    "\n",
    "# The API will only give me 1,000 results at a time (many APIs have limits like this)\n",
    "# Sometimes, the API will be documented (as in this case)\n",
    "# Othertimes... experimentation and a willingness to... tactfully ignore terms of service will see you through\n",
    "\n",
    "# I am going to set up a loop that will pull chunked results of 1k sequentially\n",
    "# For the purposes of this tutorial, I am *not* error checking *nor* checking for duplicates.\n",
    "# This is a decision that I'm knowingly making, but it will impact my results.\n",
    "# These sorts of decisions suffuse code.\n",
    "\n",
    "\n",
    "x = 0\n",
    "while x < 30000:\n",
    "    # I'm constructing a url here that has a set limit and then a stepped offset.\n",
    "    # In other words, I'm building my query into the html - a pretty standard approach for a REST Service\n",
    "    # Wikipedia actually has a great introduction to REST: https://en.wikipedia.org/wiki/Representational_state_transfer\n",
    "    # Someday, I'll write my long-overdue 'REST as Weberian Bureaucracy piece'\n",
    "    # Please be in touch if you'd like to collaborate on it. ;)\n",
    "    \n",
    "    url = 'https://services3.arcgis.com/SCwJH1pD8WSn5T5y/arcgis/rest/services/TACOMA_BUSINESS_LICENSE/FeatureServer/0/query?outFields=*&where=1%3D1&f=geojson&&resultOffset='+str(x)\n",
    "    if x == 0:\n",
    "       \n",
    "        # if this is the first time through, create the geodataframe and call it df\n",
    "        # there are ways to not include this step, but when my code is not time constrained, I like to be explicit\n",
    "        \n",
    "        df = geopandas.read_file(url)\n",
    "        \n",
    "    else:\n",
    "        # if the dataframe exists, add to it.\n",
    "        #I know how to do this by READING GEOPANDAS DOCUMENTATION here: https://geopandas.org/mergingdata.html\n",
    "                \n",
    "        df2 = geopandas.read_file(url)\n",
    "        \n",
    "        # In 'ye olden days', you could use a geopandas .append() method\n",
    "        # Pandas deprecated that and geopandas hasn't created its own again.\n",
    "        # Instead, it's easiest (and even recommended) to just use the pandas concat function, as so:\n",
    "        df = pandas.concat([df, df2])\n",
    "        \n",
    "        # Libraries build on libraries, networks build on networks, infrastructure builds on infrastructure, etc.\n",
    "        \n",
    "    # Now let's add to our offset!\n",
    "    x = x + 1000\n",
    "\n",
    "# Now that we're done, let's check how many entries we have *and* see what the data looks like.\n",
    "\n",
    "print(df.head())\n",
    "print(len(df.index))"
   ]
  },
  {
   "cell_type": "markdown",
   "id": "3df4f30b",
   "metadata": {},
   "source": [
    "### A few things you might notice\n",
    "\n",
    "First off, the official documentation for this data set ([here](https://geohub.cityoftacoma.org/datasets/tacoma::tacoma-business-license/about)) says there are 28,539 entries; yet, we have a database with 28,594. Not a huge difference, but just another space in which automated processes can - due to negligence, intention, or just lack of familiarity - introduce errors. What's actually correct? Who collected the data? Etc.\n",
    "\n",
    "Second, see that geometry column at the end and how it has `None` as its entry for each. That's awesome. The *reason* for this is an error in how the ESRI API the city of Tacoma uses is configured. \n",
    "\n",
    "I **know** they're aware of this issue as I've spoken to them about it for the past two years. It's not getting fixed. It's not a priority and I've been told I'm the only person that's noticed it. Incidentally, the previous API (Socrata) did not have this error, but cost more in upkeep. Capitalism and public funding rear their heads once more!\n",
    "\n",
    "**But**, if we poke around the dataset, we also see that many of them contain data in columns `HOUSE_NUMBER_AND_STREET_NAME`, `CITY`, and `STATE` (`ZIP_CODE`) as well. We're going to use GeoPy to construct addresses and geocode this information.\n",
    "\n",
    "This sort of futzing and adaptability is extremely useful when working with datasets. Never give up!\n",
    "\n",
    "In the next cell, I'm going to create a very rudimentary geocoder using [Nominatim](https://nominatim.org/), I'll then discuss the limitations and give you suggestions on how to improve it.\n"
   ]
  },
  {
   "cell_type": "code",
   "execution_count": 6,
   "id": "6ca85fee",
   "metadata": {},
   "outputs": [
    {
     "name": "stdout",
     "output_type": "stream",
     "text": [
      "(51.046371050000005, -114.08214283920702)\n"
     ]
    },
    {
     "ename": "AttributeError",
     "evalue": "'NoneType' object has no attribute 'latitude'",
     "output_type": "error",
     "traceback": [
      "\u001b[1;31m---------------------------------------------------------------------------\u001b[0m",
      "\u001b[1;31mAttributeError\u001b[0m                            Traceback (most recent call last)",
      "Cell \u001b[1;32mIn[6], line 14\u001b[0m\n\u001b[0;32m     10\u001b[0m \u001b[38;5;66;03m# One of these will work, one of these will not.\u001b[39;00m\n\u001b[0;32m     11\u001b[0m \u001b[38;5;66;03m# Think about what this means for *error catching*\u001b[39;00m\n\u001b[0;32m     13\u001b[0m \u001b[38;5;28mprint\u001b[39m(geo(\u001b[38;5;124m'\u001b[39m\u001b[38;5;124m906 8 Ave SW #226, Calgary\u001b[39m\u001b[38;5;124m'\u001b[39m))\n\u001b[1;32m---> 14\u001b[0m \u001b[38;5;28mprint\u001b[39m(\u001b[43mgeo\u001b[49m\u001b[43m(\u001b[49m\u001b[38;5;124;43m'\u001b[39;49m\u001b[38;5;124;43mzbjaewpito\u001b[39;49m\u001b[38;5;124;43m'\u001b[39;49m\u001b[43m)\u001b[49m)\n",
      "Cell \u001b[1;32mIn[6], line 8\u001b[0m, in \u001b[0;36mgeo\u001b[1;34m(location)\u001b[0m\n\u001b[0;32m      6\u001b[0m g \u001b[38;5;241m=\u001b[39m geocoders\u001b[38;5;241m.\u001b[39mNominatim(user_agent\u001b[38;5;241m=\u001b[39m\u001b[38;5;124m\"\u001b[39m\u001b[38;5;124mMSGT Lab 5\u001b[39m\u001b[38;5;124m\"\u001b[39m)\n\u001b[0;32m      7\u001b[0m loc \u001b[38;5;241m=\u001b[39m g\u001b[38;5;241m.\u001b[39mgeocode(location)\n\u001b[1;32m----> 8\u001b[0m \u001b[38;5;28;01mreturn\u001b[39;00m \u001b[43mloc\u001b[49m\u001b[38;5;241;43m.\u001b[39;49m\u001b[43mlatitude\u001b[49m, loc\u001b[38;5;241m.\u001b[39mlongitude\n",
      "\u001b[1;31mAttributeError\u001b[0m: 'NoneType' object has no attribute 'latitude'"
     ]
    }
   ],
   "source": [
    "from geopy import geocoders\n",
    "\n",
    "#This is going to create a function that takes in one parameter and then geocodes it\n",
    "\n",
    "def geo(location):\n",
    "    ''' takes a location as a string and returns a lat and long pair'''\n",
    "    # Note - You need to specify a 'user agent' so Nominatim can keep track of who you are\n",
    "        g = geocoders.Nominatim(user_agent=\"DigiWS 1\")\n",
    "    \n",
    "    # Now, let's feed into that geocoder the 'location' parameter that the function ingests\n",
    "    loc = g.geocode(location)\n",
    "    \n",
    "    # Ok, let's have the function pass back the latitude and longitude as a pair\n",
    "    return loc.latitude, loc.longitude\n",
    "\n",
    "# One of these will work, one of these will not.\n",
    "# Think about what this means for *error catching*\n",
    "\n",
    "print(geo('906 8 Ave SW #226, Calgary'))\n",
    "print(geo('zbjaewpito'))"
   ]
  },
  {
   "cell_type": "markdown",
   "id": "faa80224",
   "metadata": {},
   "source": [
    "### A wild error appears!\n",
    "\n",
    "The first result is (roughly) your present location. The second result, some nonsense string I through into the geocoder, throws an error - if the geocoder can't geocode the result, it can't return something.\n",
    "\n",
    "Here's where you get your first chance to really work on something yourselves.\n",
    "\n",
    "I encourage you to work in pairs and to ask questions! Especially if this is your first time working in this environment, there's so much being covered so quickly. Don't feel bad if you're a bit confused and **do** ask questions. I promise you, it took me *years* to get comfortable writing code; no one expects you to do it in an hour. :)\n",
    "\n",
    "Here are two ideas though:\n",
    "1. Use an if/then statement to check that loc exists, and - if it does not - return None, None (or something else)\n",
    "2. Even fancier, if it doesn't exist (or if you get any error, really, such as a rate limit), load up a different geocoder and try that.\n",
    "\n",
    "The latter is the more robust solution that helps stay within terms of service; however, the first one is sufficient for this exercise - again, this is a *decision* you all (and I) are making; it's not inevitable. If you do want to pursue it, the GeoPy documentation covers the various geocoders [available](https://geopy.readthedocs.io/en/stable/index.html#module-geopy.geocoders).\n",
    "\n",
    "\n",
    "## Group question 1: Produce a geocoded table of the taxi business registered in Tacoma\n",
    "\n",
    "If you get bored or stumped or short on time, I'm going to give you the solution two cells down.\n"
   ]
  },
  {
   "cell_type": "code",
   "execution_count": null,
   "id": "f29e7b9b",
   "metadata": {},
   "outputs": [],
   "source": [
    "from geopy import geocoders\n",
    "\n",
    "def geo(location):\n",
    "    ''' takes a location as a string and returns a lat and long pair'''\n",
    "    # Your cool stuff goes here\n",
    "\n",
    "print(geo('906 8 Ave SW #226, Calgary'))\n",
    "print(geo('zbjaewpito'))"
   ]
  },
  {
   "cell_type": "markdown",
   "id": "70436f5a",
   "metadata": {},
   "source": [
    "# Try your best working together!\n",
    "\n",
    ".\n",
    "\n",
    ".\n",
    "\n",
    ".\n",
    "\n",
    ".\n",
    "\n",
    ".\n",
    "\n",
    ".\n",
    "\n",
    ".\n",
    "\n",
    ".\n",
    "\n",
    ".\n",
    "\n",
    ".\n",
    "\n",
    ".\n",
    "\n",
    ".\n",
    "\n",
    ".\n",
    "\n",
    ".\n",
    "\n",
    ".\n",
    "\n",
    ".\n",
    "\n",
    ".\n",
    "\n",
    "\n",
    "And remember my solution really isn't a great one."
   ]
  },
  {
   "cell_type": "code",
   "execution_count": 11,
   "id": "05c786e3",
   "metadata": {},
   "outputs": [
    {
     "name": "stdout",
     "output_type": "stream",
     "text": [
      "(47.245217499999995, -122.43981965250066)\n",
      "(None, None)\n"
     ]
    }
   ],
   "source": [
    "from geopy import geocoders\n",
    "\n",
    "def geo(location):\n",
    "    ''' takes a location as a string and returns a lat and long pair'''\n",
    "    # Note - You need to specify a 'user agent' so Nominatim can keep track of who you are\n",
    "    g = geocoders.Nominatim(user_agent=\"DigiWS 2\", timeout=10)\n",
    "    # I'm setting a timeout that's larger here in case a bunch of people hit this at once\n",
    "    \n",
    "    loc = g.geocode(location)\n",
    "    if loc is not None:\n",
    "        return loc.latitude, loc.longitude\n",
    "    else:\n",
    "        return None, None\n",
    "    \n",
    "print(geo('1900 Commerce Street, Tacoma, WA'))\n",
    "print(geo('zbjaewpito'))"
   ]
  },
  {
   "cell_type": "markdown",
   "id": "133ea662",
   "metadata": {},
   "source": [
    "### Putting it all together and getting it on a map (almost)\n",
    "\n",
    "One thing you can notice about the above dataset is that it contains a lot of entries that don't have addresses to geocode. You'll also notice, if you've been reading documentation, that Nominatim really isn't meant for super high loads. For the sake of speed and being kind to an open-source, free product, I'm going to first select only Taxi Services from our dataset *and then* drop all of the ones that don't contain addresses to geocode.\n",
    "\n",
    "While not a focus of this tutorial, dropping data you know won't work **before** you hit the API (which often costs money) can be both a cost and time-saving technique.\n",
    "\n",
    "\n",
    "In the following cell, I'll first use a query to define only Taxi Services and then use .dropna() (a geopandas method you can read about [here](https://pandas.pydata.org/pandas-docs/stable/reference/api/pandas.DataFrame.dropna.html) which allows me to remove data without the values I want in them).\n",
    "\n",
    "#### This next cell will take *awhile* to run. Take a break, chat about questions you have, etc. \n",
    "It's because we're using a free geocoder and it's not meant to handle bulk loads. But, it'll do for today.\n",
    "\n"
   ]
  },
  {
   "cell_type": "code",
   "execution_count": 27,
   "id": "64b98f29",
   "metadata": {},
   "outputs": [
    {
     "name": "stdout",
     "output_type": "stream",
     "text": [
      "     LICENSE_NUMBER           BUSINESS_NAME  OWNER_NAME  \\\n",
      "590     500086620.0     HAROLD R LETOURNEAU  TNC DRIVER   \n",
      "765     500113564.0          LATOYA D LEWIS  TNC DRIVER   \n",
      "974     500191202.0  JONATHAN DE LOS SANTOS  TNC DRIVER   \n",
      "3       500189887.0       ABDULKADIR GESHOW  TNC DRIVER   \n",
      "140     500145287.0          DMITRI FEDOROV  TNC DRIVER   \n",
      "\n",
      "    HOUSE_NUMBER_AND_STREET_NAME UNIT_NUMBER P_O__BOX      CITY STATE  \\\n",
      "590           35209 172ND AVE SE         NaN      NaN    AUBURN    WA   \n",
      "765        18808 109TH AVE CRT E         NaN      NaN  PUYALLUP    WA   \n",
      "974             15819 42ND AVE S         NaN      NaN   TUKWILA    WA   \n",
      "3           18808 105TH AVE CT E         NaN      NaN  PUYALLUP    WA   \n",
      "140             5132 BRIGHTON ST         NaN      NaN   SEATTLE    WA   \n",
      "\n",
      "       ZIP_CODE  NAICS_CODE         NAICS_CODE_DESCRIPTION  \\\n",
      "590  98092-2616    485310.0  Taxi and Ridesharing Services   \n",
      "765       98374    485310.0  Taxi and Ridesharing Services   \n",
      "974  98188-2644    485310.0  Taxi and Ridesharing Services   \n",
      "3         98374    485310.0  Taxi and Ridesharing Services   \n",
      "140       98118    485310.0  Taxi and Ridesharing Services   \n",
      "\n",
      "     BUSINESS_OPEN_DATE Police_Sector_Subsector  \\\n",
      "590        1.640995e+12                    None   \n",
      "765        1.466381e+12                    None   \n",
      "974        1.672531e+12                    None   \n",
      "3          1.609459e+12                    None   \n",
      "140        1.525651e+12                    None   \n",
      "\n",
      "                           Location_1  ObjectId geometry  \\\n",
      "590    AUBURN, WA (Address Not Found)     591.0     None   \n",
      "765  PUYALLUP, WA (Address Not Found)     766.0     None   \n",
      "974   TUKWILA, WA (Address Not Found)     975.0     None   \n",
      "3    PUYALLUP, WA (Address Not Found)    1004.0     None   \n",
      "140   SEATTLE, WA (Address Not Found)    1141.0     None   \n",
      "\n",
      "                                location        lat        long  \n",
      "590       35209 172ND AVE SE, AUBURN, WA  47.285922 -122.113679  \n",
      "765  18808 109TH AVE CRT E, PUYALLUP, WA  47.208347 -122.283877  \n",
      "974        15819 42ND AVE S, TUKWILA, WA  47.460825 -122.281531  \n",
      "3     18808 105TH AVE CT E, PUYALLUP, WA  47.202475 -122.288569  \n",
      "140        5132 BRIGHTON ST, SEATTLE, WA  47.541783 -122.268480  \n"
     ]
    }
   ],
   "source": [
    "# I'm only interested in the taxi licenses AND I've read the Nominatim terms of service about limiting bulk queries\n",
    "# Why don't I filter out my data frame to only include taxi licenses and then geocode those?\n",
    "# Hmmm... how could I do that? Perhaps the NAICS code?\n",
    "# I can read about pandas QUERIES here: https://www.sharpsightlabs.com/blog/pandas-query/ (or the formal documentation)\n",
    "\n",
    "taxi_df = df.query('NAICS_CODE == 485310.0')\n",
    "\n",
    "# A lot of these don't have data in them, so let's drop those as well. I'll use .dropna()\n",
    "# We use the .copy() at the end to avoid setting values on a slice\n",
    "# Where could you read about that, do you think?\n",
    "taxi2 = taxi_df.dropna(axis=0, how='any', subset=['HOUSE_NUMBER_AND_STREET_NAME']).copy()\n",
    "\n",
    "# This next step is unnecessary as I could construct this information each time I need to\n",
    "# However, I'm going to create a new column in my dataframe that has the address location I want to pass to my geocoder\n",
    "# The format will read \"# Street Name, City, State\"\n",
    "taxi2['location'] = taxi2['HOUSE_NUMBER_AND_STREET_NAME'] + ', ' + taxi2['CITY'] + ', ' + taxi2['STATE']\n",
    "\n",
    "# I'm also going to create empty columns called lat and long.\n",
    "# This is where my solution begins to veer from the most elegant one, see if you could condense these steps\n",
    "# Or, better yet, do a wholly different approach. This approach will get slower for extremely large datasets.\n",
    "# You can see some of the timings of how these approaches compare here: \n",
    "# https://medium.com/swlh/how-to-efficiently-loop-through-pandas-dataframe-660e4660125d\n",
    "\n",
    "taxi2['lat'] = 0\n",
    "taxi2['long'] = 0\n",
    "\n",
    "for i in range(len(taxi2)):\n",
    "    taxi2.loc[i, 'lat'], taxi2.loc[i, 'long'] = geo(str(taxi2['location'].iloc[i]))\n",
    "    \n",
    "#Let's tidy things up once more to make a 'clean' geodataframe with only addressable results...\n",
    "taxi3 = taxi2.dropna(axis=0, how='any', subset=['lat']).copy()\n",
    "\n",
    "print(taxi4.head())"
   ]
  },
  {
   "cell_type": "code",
   "execution_count": 28,
   "id": "2048c8cc",
   "metadata": {},
   "outputs": [
    {
     "name": "stdout",
     "output_type": "stream",
     "text": [
      "522\n"
     ]
    }
   ],
   "source": [
    "print(len(taxi4))"
   ]
  },
  {
   "cell_type": "markdown",
   "id": "c833d95a",
   "metadata": {},
   "source": [
    "\n",
    "## Look at that!\n",
    "\n",
    "We now have a dataset of 522 geolocated Taxi Services registered in the city of Tacoma. Of course, we started with _either_ 28,594 or 28,593 of _all_ businesses and these are, of course, only the businesses in the Tacoma City spatial data set, and... and... and...\n",
    "\n",
    "The point isn't that this isn't rad. It is. It's that we're making a series of selections that shape our eventual visualization - from seen to unseen; our data is never inevitable. Deep.\n",
    "\n",
    "Anyway, let's make a map using PyPlot Express.\n",
    "Note a few things below: \n",
    "1. The color is meaningless (I could process the open date into something meaningful, I have not)\n",
    "2. There are many other settings you can tinker with.\n",
    "3. Check [here](https://plotly.com/python/plotly-express/#tile-maps)\n"
   ]
  },
  {
   "cell_type": "code",
   "execution_count": 35,
   "id": "073af215",
   "metadata": {},
   "outputs": [
    {
     "data": {
      "application/vnd.plotly.v1+json": {
       "config": {
        "plotlyServerURL": "https://plot.ly"
       },
       "data": [
        {
         "hovertemplate": "lat=%{lat}<br>long=%{lon}<br>BUSINESS_OPEN_DATE=%{marker.color}<extra></extra>",
         "lat": [
          47.285922,
          47.2083474,
          47.4608245,
          47.202475,
          47.5417828,
          47.554873998512136,
          47.54302455,
          47.4040951,
          47.34162485,
          47.546205549999996,
          47.75584345,
          47.459799000000004,
          47.406689150000005,
          47.2635689,
          47.46744975,
          47.26063885,
          47.51482955,
          47.524502,
          47.4981413,
          47.507669199999995,
          47.3696179,
          47.5281195,
          47.3185041,
          47.62034229657918,
          47.285226449999996,
          47.8064909,
          47.532902569711254,
          46.9856579,
          47.7366222,
          47.38718025,
          47.5156275,
          47.39270875,
          47.5378864,
          47.71085125,
          47.16436804935233,
          47.182848481970154,
          47.4624255,
          47.472957949999994,
          47.714891249999994,
          47.4826836,
          47.679731,
          47.36823,
          47.7257011,
          47.7171598,
          47.3115549,
          47.7307043,
          47.19197057142857,
          47.065029372483224,
          47.3956467,
          47.316625,
          47.5378864,
          47.31270235,
          47.70618125,
          47.196096196253414,
          47.463398,
          47.7196242,
          47.19993638364235,
          47.16971149809036,
          47.02419675,
          47.3956467,
          47.0154547755102,
          47.3956467,
          47.1228799261745,
          47.40641987986825,
          47.11082779591837,
          45.675731999999996,
          47.3865907,
          47.49545725,
          47.89540278869436,
          47.492504049999994,
          47.454021749999995,
          47.16520947455576,
          47.121895546233404,
          47.164211,
          47.095295070707074,
          47.36822105,
          47.7918239,
          47.235266323232324,
          47.218789,
          47.2881365,
          47.34447985,
          46.8017559,
          47.496591550000005,
          47.160673334407655,
          47.40349225,
          47.404659499999994,
          47.52208625,
          47.050913541478494,
          47.204274147168576,
          47.7902264,
          47.33085335,
          47.373841549999995,
          47.50856805,
          47.38637415,
          47.2787191,
          47.3162326,
          47.70761105,
          47.15911003899799,
          47.51649591658577,
          47.185189708000905,
          46.96486018281592,
          47.162605,
          47.09331817892826,
          47.3115549,
          47.480261350000006,
          47.2715011,
          47.46614265,
          47.078481422874304,
          47.4602708,
          47.7858437,
          47.183798,
          47.5205921,
          47.03790095353375,
          47.03790095353375,
          47.03790095353375,
          47.03790095353375,
          47.5373376,
          47.48008625,
          47.39546824999999,
          47.4602708,
          47.192697333333335,
          47.16325507725555,
          47.440782,
          47.850186970303135,
          47.163726027073,
          47.4065338,
          47.48594475,
          47.47487035,
          47.39818755,
          47.41743545,
          47.3687026,
          47.084143,
          47.40641987986825,
          47.3767814,
          47.381027,
          47.448373000000004,
          47.5427473,
          47.41743545,
          47.4648991,
          47.5506964,
          47.195151100000004,
          47.6845968,
          47.3667127,
          47.40410585,
          47.621791900000005,
          47.46614265,
          47.5403168,
          47.36928854300093,
          47.403877300000005,
          47.724348649999996,
          47.845134665216584,
          47.32091935,
          47.51657955,
          47.30395045,
          47.370000000000005,
          47.683242050000004,
          47.38777575,
          47.1703692,
          47.30228995,
          47.64036505,
          47.385190699999995,
          47.4758173,
          47.52774551778829,
          47.1667806122449,
          47.751276,
          47.78579345,
          47.4539781,
          47.75915495,
          46.867113700000004,
          47.05655959375161,
          47.365624600000004,
          47.5359443,
          47.35752895,
          47.4449905,
          47.3956467,
          47.381841,
          47.71900585,
          47.104053444444446,
          47.37419945,
          47.34447985,
          47.75380908450704,
          47.30548015,
          47.377250849999996,
          47.3745343,
          47.157989586149974,
          47.3706265,
          47.30091455,
          47.36928854300093,
          47.40696235,
          47.30471115,
          47.4422797,
          47.304218750000004,
          47.3219472,
          47.3706265,
          47.736084059090906,
          47.323939249999995,
          47.30894495,
          47.5470282,
          47.382878399999996,
          47.61159374326866,
          47.62791246564717,
          47.731085,
          47.40750455,
          47.349922449999994,
          47.17076247474748,
          47.47155575,
          47.61732965,
          47.530600050000004,
          47.207237309388034,
          47.27155038907736,
          47.2229907,
          47.16449401416644,
          47.164606283922154,
          47.22362410892025,
          47.182870089135726,
          47.18385982828283,
          47.1557009,
          47.17733361249717,
          47.255190999999996,
          47.34942241743775,
          47.20351153778399,
          47.211415343434346,
          47.2121129328859,
          47.23402859595959,
          47.235266323232324,
          47.25359832719312,
          47.16449401416644,
          47.197299,
          47.225443911635374,
          47.17395,
          47.21509795,
          47.27454346590424,
          47.139912,
          47.186270484848485,
          47.27392936363636,
          47.27021559183673,
          47.174841477011,
          47.1905294295302,
          47.18833710204082,
          47.201877111111116,
          47.677432249999995,
          47.2672715,
          47.6006742,
          47.176754242424245,
          47.66190145,
          47.24373847710803,
          47.20724237286663,
          47.235308,
          47.4982544,
          47.24643314285714,
          47.271274795918366,
          47.17875515151515,
          47.2325320082773,
          47.19726679591837,
          47.260459,
          47.186897814285715,
          47.3837436,
          47.16449401416644,
          47.265,
          47.2552647,
          47.69892575,
          47.23820638853159,
          47.24607691836735,
          47.2998456,
          47.51323775,
          47.287786,
          47.800172149999995,
          47.188995454545456,
          47.2040641,
          47.24735151020408,
          47.27442942867001,
          47.18199992842911,
          47.27454346590424,
          47.190512393594354,
          47.21254484883721,
          47.28308415151515,
          47.258783,
          47.17482036389322,
          47.17076929461614,
          47.19133332959867,
          47.084177,
          47.22029708080808,
          47.2979136,
          47.27451655,
          47.10427519527028,
          47.30670645,
          47.21222529700193,
          47.542396249999996,
          47.20339689795918,
          47.16449401416644,
          47.1867024080162,
          47.27315678409091,
          47.2229907,
          47.6724738,
          47.09751908,
          47.216868,
          47.17346957142857,
          47.480288200000004,
          47.209052,
          47.1692861,
          47.235266323232324,
          47.235266323232324,
          47.22838542857143,
          47.222075668799306,
          47.18568110528489,
          47.25514475,
          47.271145,
          47.1916953233807,
          47.249166999172346,
          47.176099,
          47.19213813060877,
          47.172216,
          47.21860044897959,
          47.26364025,
          47.19006016326531,
          47.264291,
          47.239340495582745,
          47.169191,
          47.200882,
          47.20908,
          47.252335877551026,
          47.1582,
          47.2167816,
          47.21686471428571,
          47.199369,
          47.2610108757764,
          47.25189945885786,
          47.20322885,
          47.24050865306122,
          47.21893525,
          47.20430085273312,
          47.217388306122444,
          47.23369790976534,
          47.220711590604026,
          47.20005016161616,
          47.21974491860062,
          47.15936606122449,
          47.30066773754966,
          47.183064015410615,
          47.24050865306122,
          47.256013510204085,
          47.221598609308785,
          47.19018589795918,
          47.181949,
          47.211264092661786,
          47.229237,
          47.2183657,
          47.25053033333333,
          47.16449401416644,
          47.174841477011,
          47.283736805555556,
          47.17149892042642,
          47.386141249999994,
          47.6167205,
          47.153594118878196,
          47.2201131,
          47.12581958790487,
          47.171010646464644,
          47.235266323232324,
          47.3074229,
          47.21361349113377,
          47.174841477011,
          47.278659149999996,
          47.2263581,
          47.25724451515151,
          47.174193672,
          47.34942241743775,
          47.233282714285714,
          47.288659546338984,
          47.086246216080404,
          47.258963,
          47.213536,
          47.235308,
          47.22525618367347,
          47.25171227516779,
          47.19213813060877,
          47.232067,
          47.18305728624466,
          47.197226848484846,
          47.26664966834171,
          47.28175318073146,
          47.2955582,
          47.31731375,
          47.251635,
          47.231905734693875,
          47.174841477011,
          47.4897898,
          47.1018975033557,
          47.084405,
          47.225699,
          47.286492,
          47.226348,
          47.240294090909096,
          47.17906311055276,
          47.25377153488372,
          47.23886722600404,
          47.38725005,
          47.21281894111901,
          47.21454971428571,
          47.235266323232324,
          47.173378,
          47.17482036389322,
          47.678671449999996,
          47.2231166,
          47.25584830463645,
          47.21979436363636,
          47.17222932653061,
          47.260384306122454,
          47.24148088888889,
          47.2167816,
          47.200640111111106,
          47.236429101176256,
          47.220997702702704,
          47.24711145,
          47.235266323232324,
          47.6457398,
          47.26472408163265,
          47.164328755547864,
          47.22292503899077,
          47.69892575,
          47.481338050000005,
          47.4433545,
          47.2198886,
          47.6391607,
          47.252470848484855,
          47.235308,
          47.18819606122449,
          47.21208204081633,
          47.218248369127515,
          47.2356425,
          47.21847973469388,
          47.21454971428571,
          47.235308,
          47.3238687,
          47.17164991836734,
          47.198779822441466,
          47.23986267561751,
          47.181026,
          47.204841,
          47.34942241743775,
          47.34942241743775,
          47.34942241743775,
          47.7034285,
          47.151408,
          47.1700528,
          47.242421285714286,
          47.21545721598536,
          47.235266323232324,
          47.18279465771812,
          47.19892189795918,
          47.173615476444816,
          47.257089001134176,
          47.228041333839236,
          47.229856,
          47.248718,
          47.197299,
          47.2264208,
          47.5794207,
          47.22837143434344,
          47.30268699199032,
          47.5786053,
          47.203485037161144,
          47.2566057,
          47.207237309388034,
          47.04088711111111,
          47.243893428571425,
          47.28308415151515,
          47.22290163636363,
          47.26386714141414,
          47.27793469724448,
          47.009644571428574,
          47.413789,
          47.479164600000004,
          47.7222558,
          47.82199619272984,
          47.5334734,
          47.202130999999994,
          47.206213290803625,
          47.19345550505051,
          47.30697406060606,
          47.124616,
          47.2042686,
          47.26188891836735,
          47.235266323232324,
          47.235266323232324,
          47.273057615384616,
          47.2744713,
          47.214535363636365,
          47.213616306122454,
          47.27641,
          47.23952293877551,
          47.4737561,
          47.27442942867001,
          47.21625014285714,
          47.18981163731511,
          47.17559266666667,
          47.235266323232324,
          47.27638,
          47.16449401416644,
          47.1410464409422,
          47.2231166,
          47.235266323232324,
          47.17218279591837,
          47.9149657,
          47.27639405,
          47.31867205,
          47.343640300000004,
          47.58895574271042,
          47.294472150000004,
          47.2455013,
          47.394426749999994,
          47.495327700000004,
          47.25702151241008,
          47.192739,
          47.161151,
          47.251491787878784,
          47.580184599999995,
          46.99645721058648,
          47.24777439784946,
          47.683016249999994,
          47.2500235045659,
          47.174841477011
         ],
         "legendgroup": "",
         "lon": [
          -122.11367938839285,
          -122.2838768,
          -122.281531,
          -122.288569,
          -122.26847999977564,
          -122.11307098859622,
          -122.36221435496209,
          -122.20366741743891,
          -122.3069669287398,
          -122.29972272143311,
          -122.18839172589205,
          -122.2746895,
          -122.27641550506854,
          -122.2794534765404,
          -122.32681227311741,
          -122.29421767381986,
          -122.26615729759526,
          -122.36084916674884,
          -122.16263804731443,
          -122.30529265,
          -122.29845990216205,
          -122.36083934380409,
          -122.3026301,
          -122.20448273423719,
          -122.36023677700001,
          -122.2968445,
          -121.84762289754741,
          -122.2256697,
          -122.2164326,
          -122.1559442378628,
          -122.3430492,
          -122.15571279177924,
          -122.3349917,
          -122.30287753891035,
          -122.28633265903585,
          -122.54387245730001,
          -122.1687171245094,
          -122.28727406963489,
          -122.31280177289517,
          -122.24456885324254,
          -122.106627,
          -122.17789966229698,
          -122.163009,
          -122.19514827720731,
          -122.3058049,
          -122.1719841,
          -122.26469725396825,
          -122.25595152013423,
          -122.28585222010261,
          -122.3357453,
          -122.3349917,
          -122.33020600207925,
          -122.33100636339839,
          -122.32372699193479,
          -122.15446796514479,
          -122.2948337,
          -122.32530613001686,
          -122.02006363817982,
          -122.92093550254056,
          -122.18613029365255,
          -122.90800563265306,
          -122.28585222010261,
          -122.55190766442952,
          -122.29865521949873,
          -122.43232183673469,
          -122.64140575174825,
          -122.18218775552191,
          -122.36533091684413,
          -122.30076709440758,
          -122.27418012500002,
          -122.35321139999999,
          -122.28574690151348,
          -122.4520632740039,
          -122.294136,
          -122.40237885858586,
          -122.31820450000001,
          -122.32645584994651,
          -122.53575953535353,
          -122.309811,
          -122.17662720000001,
          -122.31112104937216,
          -122.2419186,
          -122.23792052250785,
          -122.56217124114092,
          -122.28313801992377,
          -122.28090699792568,
          -122.16343067717587,
          -122.30878185706045,
          -122.27346804437497,
          -122.35769381985588,
          -122.30182087065135,
          -122.1470985922316,
          -122.30578305668291,
          -122.17037535499666,
          -122.34669265,
          -122.3596841,
          -122.11774946282492,
          -122.18830489895461,
          -122.6246282463596,
          -122.31720253977844,
          -122.59165301533135,
          -122.573919,
          -122.67547980116177,
          -122.3058049,
          -122.18368983626436,
          -122.2364402837799,
          -122.2635433713549,
          -122.40357588109987,
          -122.17208855,
          -122.3469084,
          -122.148282,
          -122.37376685,
          -122.83002759533225,
          -122.83002759533225,
          -122.83002759533225,
          -122.83002759533225,
          -122.2851609,
          -122.31997725414391,
          -122.1686469035136,
          -122.17208855,
          -122.290836,
          -122.58790601906342,
          -122.18707723962117,
          -121.68401311413095,
          -122.27114801257284,
          -122.27713807793103,
          -122.31843820122072,
          -122.28801372595592,
          -122.32061181786858,
          -122.29124199301339,
          -122.16602460829853,
          -122.212454,
          -122.29865521949873,
          -122.11696904988023,
          -122.2608732,
          -122.2923265670262,
          -122.2931638,
          -122.29124199301339,
          -122.32462445,
          -122.28240549942433,
          -121.97476405,
          -122.1237269337762,
          -122.17913683989448,
          -122.2769251768909,
          -122.32332616357922,
          -122.2635433713549,
          -122.38572276698389,
          -122.19303181933384,
          -122.18994383297414,
          -122.34725170266411,
          -122.2871874751579,
          -122.33800850053035,
          -122.26827734504174,
          -122.20417831523753,
          -122.29974642517523,
          -122.29798790114975,
          -122.17252876471605,
          -122.596287,
          -122.3583267451881,
          -122.3869471,
          -122.0317201,
          -122.28178205,
          -122.03006505320346,
          -122.60677608163265,
          -122.120922,
          -122.18772786713663,
          -122.1716508258146,
          -122.23324690831447,
          -122.26755324999999,
          -122.30621007091564,
          -122.02754572440456,
          -122.3770276,
          -122.10138694158326,
          -122.2875771,
          -122.28585222010261,
          -122.3191344,
          -122.34033121012388,
          -122.42162422222222,
          -122.28828369750275,
          -122.31112104937216,
          -122.30402894366198,
          -122.28341914730768,
          -122.19290131140801,
          -122.1767636,
          -122.19776577093437,
          -122.20815070200001,
          -122.34235820206209,
          -122.19303181933384,
          -122.28020910594512,
          -122.36783354069888,
          -122.28719483266725,
          -122.34601995278979,
          -122.1803466,
          -122.20815070200001,
          -122.33715443636363,
          -122.30990412407616,
          -122.3447091940869,
          -122.3721147,
          -122.08854708344487,
          -122.15034919556155,
          -122.11393645841997,
          -122.31360340636314,
          -122.30897915315026,
          -122.1377654747898,
          -122.29359756565657,
          -122.281486,
          -122.32600910661014,
          -122.27412986210919,
          -122.49784015866734,
          -122.36453152939829,
          -122.4633704,
          -122.49459814083336,
          -122.50748373534176,
          -122.52958301703734,
          -122.5493346614846,
          -122.45462312121212,
          -122.36188261917145,
          -122.48113156233104,
          -122.44963046938776,
          -122.22494950689504,
          -122.41489518302784,
          -122.44464367676767,
          -122.50706676510067,
          -122.48620285858586,
          -122.53575953535353,
          -122.52567506374959,
          -122.49459814083336,
          -122.492655,
          -122.34409730693044,
          -122.48074721052632,
          -122.53591430352355,
          -122.36972943954105,
          -122.526138,
          -122.45533472727273,
          -122.36381163636364,
          -122.49200467346938,
          -122.46531138871684,
          -122.45914222818791,
          -122.51024777551021,
          -122.42560496969696,
          -122.38296002454268,
          -122.23246457028793,
          -122.3351764,
          -122.53066021212122,
          -122.40329070576419,
          -122.44677891625872,
          -122.42461750006484,
          -122.555082,
          -122.1631706,
          -122.47659342857142,
          -122.50513759183674,
          -122.43821101010101,
          -122.50900965778808,
          -122.4302659387755,
          -122.456593,
          -122.42605441428572,
          -122.31260932496488,
          -122.49459814083336,
          -122.460053,
          -122.21853638532066,
          -122.34643125745892,
          -122.46512770712654,
          -122.45611338775511,
          -122.21303565590756,
          -122.1763286433432,
          -122.373143,
          -122.37783147965702,
          -122.55540327272728,
          -122.3287919,
          -122.4466076122449,
          -122.51574759049946,
          -122.54857652781607,
          -122.36972943954105,
          -122.56233040427283,
          -122.44196770930232,
          -122.51567690909091,
          -122.49257855886873,
          -122.46540432563009,
          -122.51203598939136,
          -122.45417251789279,
          -122.428153,
          -122.41620672727272,
          -122.5322044,
          -122.22295215,
          -122.43468916127274,
          -122.31008505009683,
          -122.50512166676944,
          -122.35463050012947,
          -122.4037345510204,
          -122.49459814083336,
          -122.5403383032109,
          -122.51575288068182,
          -122.4633704,
          -122.3636847,
          -122.643724664,
          -122.47386,
          -122.5120576122449,
          -122.18826072992863,
          -122.40954083673469,
          -122.4593579,
          -122.53575953535353,
          -122.53575953535353,
          -122.42171357142858,
          -122.51642330936865,
          -122.51737553162162,
          -122.534194,
          -122.491901,
          -122.49148343437021,
          -122.52644780718805,
          -122.43658169565217,
          -122.53958752146984,
          -122.30876,
          -122.47955238775509,
          -122.44985415,
          -122.42597634693877,
          -122.447573,
          -122.53016219772825,
          -122.44201,
          -122.40945072727273,
          -122.415114,
          -122.44774079591836,
          -122.255976,
          -122.4340178,
          -122.480925,
          -122.508545,
          -122.51603833540372,
          -122.52092331171322,
          -122.50494512448194,
          -122.46179610204082,
          -122.50692275,
          -122.50473172090032,
          -122.45291697959183,
          -122.50546538156351,
          -122.54023990604027,
          -122.42563065656566,
          -122.40630646484225,
          -122.50106073469388,
          -122.40265181835998,
          -122.5269717478574,
          -122.46179610204082,
          -122.46155671428572,
          -122.40494904108346,
          -122.44274248979592,
          -122.548506,
          -122.46632942272205,
          -122.4897066,
          -122.4376588,
          -122.51298033333335,
          -122.49459814083336,
          -122.46531138871684,
          -122.38126661805556,
          -122.42635839483087,
          -122.25201209211107,
          -122.3097957,
          -122.50468994265596,
          -122.4618639,
          -122.426733690056,
          -122.45928938383838,
          -122.53575953535353,
          -122.30474980063457,
          -122.40970310729956,
          -122.46531138871684,
          -122.22251207453007,
          -122.3987783,
          -122.44259796969696,
          -122.436576792,
          -122.22494950689504,
          -122.49354671428571,
          -122.38978271882083,
          -122.41789547236182,
          -122.441815,
          -122.437298,
          -122.555082,
          -122.33631144897959,
          -122.52268787919463,
          -122.53958752146984,
          -122.41373528571428,
          -122.54390522733502,
          -122.48123933333333,
          -122.51813586432161,
          -122.5131572408847,
          -122.37281313783673,
          -122.38447330478571,
          -122.526245,
          -122.41500387755103,
          -122.46531138871684,
          -122.32026255344672,
          -122.42295410738255,
          -122.40548229025337,
          -122.44782424489796,
          -122.372477,
          -122.476543,
          -122.46265766666666,
          -122.4632837839196,
          -122.4645796744186,
          -122.52163792625618,
          -122.25759173099064,
          -122.4122257922048,
          -122.47383424489796,
          -122.53575953535353,
          -122.46324411111111,
          -122.46540432563009,
          -122.30848315288654,
          -122.4196411,
          -122.53686577438923,
          -122.4479353939394,
          -122.46374455102041,
          -122.45977259183672,
          -122.5301104888889,
          -122.4340178,
          -122.48098011111111,
          -122.3533284634913,
          -122.47348272972972,
          -122.44059385,
          -122.53575953535353,
          -122.37526374529367,
          -122.45546487755101,
          -122.43427075202241,
          -122.49323464229126,
          -122.34643125745892,
          -122.28815982694806,
          -122.2889149717806,
          -122.444845,
          -122.14535629288389,
          -122.4429815959596,
          -122.555082,
          -122.29528508163266,
          -122.4117848367347,
          -122.47351543624161,
          -122.43931391098513,
          -122.4267465510204,
          -122.47383424489796,
          -122.555082,
          -122.2171815,
          -122.52758620408163,
          -122.30439000534962,
          -122.55368378146851,
          -122.457994,
          -122.272951,
          -122.22494950689504,
          -122.22494950689504,
          -122.22494950689504,
          -122.342496,
          -122.506888,
          -122.4340924,
          -122.48372485714286,
          -122.55096900808418,
          -122.53575953535353,
          -122.4745826375839,
          -122.41112283673469,
          -122.5145681915861,
          -122.30898602405814,
          -122.50502014358305,
          -122.456071,
          -122.53688366666667,
          -122.492655,
          -122.3579285,
          -122.3050668,
          -122.29643963636364,
          -122.39499531637023,
          -122.4089862,
          -122.51163291442775,
          -122.531339,
          -122.49784015866734,
          -122.84046672222223,
          -122.51284775510204,
          -122.51567690909091,
          -122.44913136363635,
          -122.4694178989899,
          -122.52066301687395,
          -122.86617787755101,
          -122.1855319217128,
          -122.18090704109841,
          -122.32168385413908,
          -122.33251716227709,
          -122.2694738,
          -122.52296177707399,
          -122.49966460692801,
          -122.44599062626263,
          -122.41956867676767,
          -122.537743,
          -122.2464048,
          -122.46085087755101,
          -122.53575953535353,
          -122.53575953535353,
          -122.48668576923076,
          -122.4612609,
          -122.41659581818182,
          -122.47359986734695,
          -122.52163260655738,
          -122.4492857755102,
          -122.28907584999999,
          -122.51574759049946,
          -122.42490938775511,
          -122.56257384802285,
          -122.45709566666667,
          -122.53575953535353,
          -122.2255535,
          -122.49459814083336,
          -122.50733709750739,
          -122.4196411,
          -122.53575953535353,
          -122.46379353061225,
          -122.2450797,
          -122.14707805104445,
          -122.3960872752306,
          -122.30772250409836,
          -122.1458423411959,
          -122.20961724132076,
          -122.438329,
          -122.27169995046658,
          -122.25283485281923,
          -122.53284985107904,
          -121.9940355,
          -122.506301,
          -122.530088,
          -122.31446198487068,
          -122.79775900723928,
          -122.3221566344086,
          -122.16479824635056,
          -122.5234916453218,
          -122.46531138871684
         ],
         "marker": {
          "color": [
           1640995200000,
           1466380800000,
           1672531200000,
           1609459200000,
           1525651200000,
           1525651200000,
           1525651200000,
           1609459200000,
           1640995200000,
           1561680000000,
           1569542400000,
           1569542400000,
           1561680000000,
           1561680000000,
           1561075200000,
           1456790400000,
           1545955200000,
           1545955200000,
           1576195200000,
           1646092800000,
           1646092800000,
           1574985600000,
           1547769600000,
           1547769600000,
           1676592000000,
           1560470400000,
           1547769600000,
           1609459200000,
           1525651200000,
           1525651200000,
           1573171200000,
           1570147200000,
           1570147200000,
           1562889600000,
           1551398400000,
           1562889600000,
           1527811200000,
           1414713600000,
           1560816000000,
           1560816000000,
           1560816000000,
           1640995200000,
           1525651200000,
           1527811200000,
           1640995200000,
           1525651200000,
           1492732800000,
           1506297600000,
           1609459200000,
           1609459200000,
           1618531200000,
           1620345600000,
           1622160000000,
           1580428800000,
           1561075200000,
           1557446400000,
           1553212800000,
           1454284800000,
           1643155200000,
           1640995200000,
           1566345600000,
           1626825600000,
           1397088000000,
           1418256000000,
           1584057600000,
           1565136000000,
           1525651200000,
           1525651200000,
           1564099200000,
           1646092800000,
           1640995200000,
           1473292800000,
           1461283200000,
           1609459200000,
           1609459200000,
           1575590400000,
           1575590400000,
           1546300800000,
           1679616000000,
           1643673600000,
           1643673600000,
           1640995200000,
           1646092800000,
           1504569600000,
           1564704000000,
           1571356800000,
           1562025600000,
           1646092800000,
           1536883200000,
           1536278400000,
           1646092800000,
           1640995200000,
           1560816000000,
           1560816000000,
           1577836800000,
           1577836800000,
           1560816000000,
           1448409600000,
           1437955200000,
           1438819200000,
           1528416000000,
           1518134400000,
           1507075200000,
           1609459200000,
           1654041600000,
           1652745600000,
           1609459200000,
           1596499200000,
           1567123200000,
           1553817600000,
           1458604800000,
           1546300800000,
           1667779200000,
           1667779200000,
           1667779200000,
           1667779200000,
           1643673600000,
           1640995200000,
           1555632000000,
           1567123200000,
           1570752000000,
           1640995200000,
           1640995200000,
           1640995200000,
           1640995200000,
           1640995200000,
           1643673600000,
           1643673600000,
           1643673600000,
           1643673600000,
           1643673600000,
           1643673600000,
           1646092800000,
           1646092800000,
           1646092800000,
           1646092800000,
           1646092800000,
           1643673600000,
           1646092800000,
           1564099200000,
           1609459200000,
           1571961600000,
           1564704000000,
           1577836800000,
           1548374400000,
           1525651200000,
           1644883200000,
           1525651200000,
           1604102400000,
           1525651200000,
           1525651200000,
           1525651200000,
           1574208000000,
           1544140800000,
           1566518400000,
           1553212800000,
           1538697600000,
           1553212800000,
           1640995200000,
           1536278400000,
           1550793600000,
           1553212800000,
           1552608000000,
           1640995200000,
           1555632000000,
           1548979200000,
           1529625600000,
           1525132800000,
           1617753600000,
           1572566400000,
           1525651200000,
           1525651200000,
           1640995200000,
           1646092800000,
           1640995200000,
           1621555200000,
           1533254400000,
           1540512000000,
           1643673600000,
           1562889600000,
           1630454400000,
           1609459200000,
           1527811200000,
           1525651200000,
           1525651200000,
           1525651200000,
           1643673600000,
           1643673600000,
           1643673600000,
           1525651200000,
           1525651200000,
           1640995200000,
           1596240000000,
           1525651200000,
           1525651200000,
           1560816000000,
           1568937600000,
           1544745600000,
           1537488000000,
           1537488000000,
           1525651200000,
           1530230400000,
           1640995200000,
           1525651200000,
           1609459200000,
           1525651200000,
           1640995200000,
           1560816000000,
           1609459200000,
           1677456000000,
           1456099200000,
           1435708800000,
           1477958400000,
           1640995200000,
           1609459200000,
           1457395200000,
           1646092800000,
           1486339200000,
           1505347200000,
           1623715200000,
           1640995200000,
           1684713600000,
           1466467200000,
           1655596800000,
           1642464000000,
           1661731200000,
           1548633600000,
           1489968000000,
           1582502400000,
           1677974400000,
           1670544000000,
           1630454400000,
           1609459200000,
           1586217600000,
           1577836800000,
           1640995200000,
           1629158400000,
           1640995200000,
           1641772800000,
           1080777600000,
           1525651200000,
           1525651200000,
           1525651200000,
           1609459200000,
           1530230400000,
           1609459200000,
           1672531200000,
           1660521600000,
           1574985600000,
           1672531200000,
           1672531200000,
           1605571200000,
           1433808000000,
           1605571200000,
           1640995200000,
           1605571200000,
           1525651200000,
           1330992000000,
           1626652800000,
           1558051200000,
           1558051200000,
           1619740800000,
           1381104000000,
           1560816000000,
           1640995200000,
           1601596800000,
           1525651200000,
           1643673600000,
           1362528000000,
           1672531200000,
           1640995200000,
           1493337600000,
           1632787200000,
           1609459200000,
           1609459200000,
           1609459200000,
           1609459200000,
           1609459200000,
           1571961600000,
           1553212800000,
           1684108800000,
           1681344000000,
           1500595200000,
           1672531200000,
           1636070400000,
           1640995200000,
           1640995200000,
           1640995200000,
           1609459200000,
           1472083200000,
           1624579200000,
           1525132800000,
           1609459200000,
           1571961600000,
           1392854400000,
           1640995200000,
           1681689600000,
           1525651200000,
           1494979200000,
           1553817600000,
           1683504000000,
           1683504000000,
           1482105600000,
           1490313600000,
           1500854400000,
           1640995200000,
           1257033600000,
           1620172800000,
           1640995200000,
           1643673600000,
           1646092800000,
           1640995200000,
           1544054400000,
           1601596800000,
           1609459200000,
           1640995200000,
           1640995200000,
           1640995200000,
           1609459200000,
           1605571200000,
           1605571200000,
           1628121600000,
           1530230400000,
           1609459200000,
           1629158400000,
           1577836800000,
           1672531200000,
           1609459200000,
           1652140800000,
           1640995200000,
           1527552000000,
           1550793600000,
           1138320000000,
           1672531200000,
           1579824000000,
           1640995200000,
           1672531200000,
           1672531200000,
           1625529600000,
           1672704000000,
           1626739200000,
           1640995200000,
           1609459200000,
           1651363200000,
           1672531200000,
           1640995200000,
           1640995200000,
           1467331200000,
           1388620800000,
           1640995200000,
           1525651200000,
           1640995200000,
           1563494400000,
           1565308800000,
           1571961600000,
           1640995200000,
           1674086400000,
           1640995200000,
           1643587200000,
           1505174400000,
           1526601600000,
           1670976000000,
           1472428800000,
           1683244800000,
           1661990400000,
           1672531200000,
           1646092800000,
           1672531200000,
           1609459200000,
           1433116800000,
           1627776000000,
           1605571200000,
           1686700800000,
           1609459200000,
           1672531200000,
           1533081600000,
           1378339200000,
           1343865600000,
           1500249600000,
           1646092800000,
           1609459200000,
           1525651200000,
           1541116800000,
           1672531200000,
           1643673600000,
           1656288000000,
           1533859200000,
           1515715200000,
           1609459200000,
           1670976000000,
           1672531200000,
           1296777600000,
           1609459200000,
           1601856000000,
           1609459200000,
           1476662400000,
           1640995200000,
           1609459200000,
           1493164800000,
           1687219200000,
           1643673600000,
           1683590400000,
           1560816000000,
           1429920000000,
           1459123200000,
           1509494400000,
           1643673600000,
           1672531200000,
           1483401600000,
           1647388800000,
           1609459200000,
           1640995200000,
           1640995200000,
           1672531200000,
           1659657600000,
           1552608000000,
           1338940800000,
           1513728000000,
           1474502400000,
           1536278400000,
           1560816000000,
           1560816000000,
           1560816000000,
           1550188800000,
           1446163200000,
           1663804800000,
           1640995200000,
           1485993600000,
           1640995200000,
           1646697600000,
           1550793600000,
           1605571200000,
           1532304000000,
           1646092800000,
           1609459200000,
           1567123200000,
           1640995200000,
           1640995200000,
           1640995200000,
           1643673600000,
           1643673600000,
           1646092800000,
           1646092800000,
           1646092800000,
           1640995200000,
           1640995200000,
           1643155200000,
           1641427200000,
           1640995200000,
           1640995200000,
           1640995200000,
           1607040000000,
           1548979200000,
           1607299200000,
           1488758400000,
           1488326400000,
           1525651200000,
           1535673600000,
           1542931200000,
           1548374400000,
           1555027200000,
           1656547200000,
           1640995200000,
           1606176000000,
           1356998400000,
           1288569600000,
           1599523200000,
           1426204800000,
           1503446400000,
           1640995200000,
           1551398400000,
           1564704000000,
           1553212800000,
           1555632000000,
           1555632000000,
           1544745600000,
           1605571200000,
           1530835200000,
           1577836800000,
           1523577600000,
           1633392000000,
           1472601600000,
           1470960000000,
           1352073600000,
           1414108800000,
           1636070400000,
           1654473600000,
           1609459200000,
           1545350400000,
           1609459200000,
           1508716800000,
           1529625600000,
           1640995200000,
           1524182400000,
           1640995200000,
           1471392000000,
           1677542400000,
           1104883200000,
           1672531200000,
           1672531200000,
           1459900800000,
           1654992000000,
           1640995200000,
           1533254400000,
           1533254400000,
           1609459200000,
           1622160000000,
           1525651200000,
           1525651200000,
           1609459200000,
           1560816000000,
           1646092800000,
           1609459200000,
           1525651200000,
           1577836800000,
           1628121600000,
           1525651200000,
           1573776000000,
           1669852800000,
           1560816000000,
           1640995200000,
           1623024000000
          ],
          "coloraxis": "coloraxis"
         },
         "mode": "markers",
         "name": "",
         "showlegend": false,
         "subplot": "mapbox",
         "type": "scattermapbox"
        }
       ],
       "layout": {
        "coloraxis": {
         "colorbar": {
          "title": {
           "text": "BUSINESS_OPEN_DATE"
          }
         },
         "colorscale": [
          [
           0,
           "#000000"
          ],
          [
           0.0625,
           "#001f4d"
          ],
          [
           0.125,
           "#003786"
          ],
          [
           0.1875,
           "#0e58a8"
          ],
          [
           0.25,
           "#217eb8"
          ],
          [
           0.3125,
           "#30a4ca"
          ],
          [
           0.375,
           "#54c8df"
          ],
          [
           0.4375,
           "#9be4ef"
          ],
          [
           0.5,
           "#e1e9d1"
          ],
          [
           0.5625,
           "#f3d573"
          ],
          [
           0.625,
           "#e7b000"
          ],
          [
           0.6875,
           "#da8200"
          ],
          [
           0.75,
           "#c65400"
          ],
          [
           0.8125,
           "#ac2301"
          ],
          [
           0.875,
           "#820000"
          ],
          [
           0.9375,
           "#4c0000"
          ],
          [
           1,
           "#000000"
          ]
         ]
        },
        "legend": {
         "tracegroupgap": 0
        },
        "mapbox": {
         "center": {
          "lat": 47.3134410740517,
          "lon": -122.37850808151985
         },
         "domain": {
          "x": [
           0,
           1
          ],
          "y": [
           0,
           1
          ]
         },
         "style": "carto-positron",
         "zoom": 6
        },
        "margin": {
         "t": 60
        },
        "template": {
         "data": {
          "bar": [
           {
            "error_x": {
             "color": "#2a3f5f"
            },
            "error_y": {
             "color": "#2a3f5f"
            },
            "marker": {
             "line": {
              "color": "#E5ECF6",
              "width": 0.5
             },
             "pattern": {
              "fillmode": "overlay",
              "size": 10,
              "solidity": 0.2
             }
            },
            "type": "bar"
           }
          ],
          "barpolar": [
           {
            "marker": {
             "line": {
              "color": "#E5ECF6",
              "width": 0.5
             },
             "pattern": {
              "fillmode": "overlay",
              "size": 10,
              "solidity": 0.2
             }
            },
            "type": "barpolar"
           }
          ],
          "carpet": [
           {
            "aaxis": {
             "endlinecolor": "#2a3f5f",
             "gridcolor": "white",
             "linecolor": "white",
             "minorgridcolor": "white",
             "startlinecolor": "#2a3f5f"
            },
            "baxis": {
             "endlinecolor": "#2a3f5f",
             "gridcolor": "white",
             "linecolor": "white",
             "minorgridcolor": "white",
             "startlinecolor": "#2a3f5f"
            },
            "type": "carpet"
           }
          ],
          "choropleth": [
           {
            "colorbar": {
             "outlinewidth": 0,
             "ticks": ""
            },
            "type": "choropleth"
           }
          ],
          "contour": [
           {
            "colorbar": {
             "outlinewidth": 0,
             "ticks": ""
            },
            "colorscale": [
             [
              0,
              "#0d0887"
             ],
             [
              0.1111111111111111,
              "#46039f"
             ],
             [
              0.2222222222222222,
              "#7201a8"
             ],
             [
              0.3333333333333333,
              "#9c179e"
             ],
             [
              0.4444444444444444,
              "#bd3786"
             ],
             [
              0.5555555555555556,
              "#d8576b"
             ],
             [
              0.6666666666666666,
              "#ed7953"
             ],
             [
              0.7777777777777778,
              "#fb9f3a"
             ],
             [
              0.8888888888888888,
              "#fdca26"
             ],
             [
              1,
              "#f0f921"
             ]
            ],
            "type": "contour"
           }
          ],
          "contourcarpet": [
           {
            "colorbar": {
             "outlinewidth": 0,
             "ticks": ""
            },
            "type": "contourcarpet"
           }
          ],
          "heatmap": [
           {
            "colorbar": {
             "outlinewidth": 0,
             "ticks": ""
            },
            "colorscale": [
             [
              0,
              "#0d0887"
             ],
             [
              0.1111111111111111,
              "#46039f"
             ],
             [
              0.2222222222222222,
              "#7201a8"
             ],
             [
              0.3333333333333333,
              "#9c179e"
             ],
             [
              0.4444444444444444,
              "#bd3786"
             ],
             [
              0.5555555555555556,
              "#d8576b"
             ],
             [
              0.6666666666666666,
              "#ed7953"
             ],
             [
              0.7777777777777778,
              "#fb9f3a"
             ],
             [
              0.8888888888888888,
              "#fdca26"
             ],
             [
              1,
              "#f0f921"
             ]
            ],
            "type": "heatmap"
           }
          ],
          "heatmapgl": [
           {
            "colorbar": {
             "outlinewidth": 0,
             "ticks": ""
            },
            "colorscale": [
             [
              0,
              "#0d0887"
             ],
             [
              0.1111111111111111,
              "#46039f"
             ],
             [
              0.2222222222222222,
              "#7201a8"
             ],
             [
              0.3333333333333333,
              "#9c179e"
             ],
             [
              0.4444444444444444,
              "#bd3786"
             ],
             [
              0.5555555555555556,
              "#d8576b"
             ],
             [
              0.6666666666666666,
              "#ed7953"
             ],
             [
              0.7777777777777778,
              "#fb9f3a"
             ],
             [
              0.8888888888888888,
              "#fdca26"
             ],
             [
              1,
              "#f0f921"
             ]
            ],
            "type": "heatmapgl"
           }
          ],
          "histogram": [
           {
            "marker": {
             "pattern": {
              "fillmode": "overlay",
              "size": 10,
              "solidity": 0.2
             }
            },
            "type": "histogram"
           }
          ],
          "histogram2d": [
           {
            "colorbar": {
             "outlinewidth": 0,
             "ticks": ""
            },
            "colorscale": [
             [
              0,
              "#0d0887"
             ],
             [
              0.1111111111111111,
              "#46039f"
             ],
             [
              0.2222222222222222,
              "#7201a8"
             ],
             [
              0.3333333333333333,
              "#9c179e"
             ],
             [
              0.4444444444444444,
              "#bd3786"
             ],
             [
              0.5555555555555556,
              "#d8576b"
             ],
             [
              0.6666666666666666,
              "#ed7953"
             ],
             [
              0.7777777777777778,
              "#fb9f3a"
             ],
             [
              0.8888888888888888,
              "#fdca26"
             ],
             [
              1,
              "#f0f921"
             ]
            ],
            "type": "histogram2d"
           }
          ],
          "histogram2dcontour": [
           {
            "colorbar": {
             "outlinewidth": 0,
             "ticks": ""
            },
            "colorscale": [
             [
              0,
              "#0d0887"
             ],
             [
              0.1111111111111111,
              "#46039f"
             ],
             [
              0.2222222222222222,
              "#7201a8"
             ],
             [
              0.3333333333333333,
              "#9c179e"
             ],
             [
              0.4444444444444444,
              "#bd3786"
             ],
             [
              0.5555555555555556,
              "#d8576b"
             ],
             [
              0.6666666666666666,
              "#ed7953"
             ],
             [
              0.7777777777777778,
              "#fb9f3a"
             ],
             [
              0.8888888888888888,
              "#fdca26"
             ],
             [
              1,
              "#f0f921"
             ]
            ],
            "type": "histogram2dcontour"
           }
          ],
          "mesh3d": [
           {
            "colorbar": {
             "outlinewidth": 0,
             "ticks": ""
            },
            "type": "mesh3d"
           }
          ],
          "parcoords": [
           {
            "line": {
             "colorbar": {
              "outlinewidth": 0,
              "ticks": ""
             }
            },
            "type": "parcoords"
           }
          ],
          "pie": [
           {
            "automargin": true,
            "type": "pie"
           }
          ],
          "scatter": [
           {
            "fillpattern": {
             "fillmode": "overlay",
             "size": 10,
             "solidity": 0.2
            },
            "type": "scatter"
           }
          ],
          "scatter3d": [
           {
            "line": {
             "colorbar": {
              "outlinewidth": 0,
              "ticks": ""
             }
            },
            "marker": {
             "colorbar": {
              "outlinewidth": 0,
              "ticks": ""
             }
            },
            "type": "scatter3d"
           }
          ],
          "scattercarpet": [
           {
            "marker": {
             "colorbar": {
              "outlinewidth": 0,
              "ticks": ""
             }
            },
            "type": "scattercarpet"
           }
          ],
          "scattergeo": [
           {
            "marker": {
             "colorbar": {
              "outlinewidth": 0,
              "ticks": ""
             }
            },
            "type": "scattergeo"
           }
          ],
          "scattergl": [
           {
            "marker": {
             "colorbar": {
              "outlinewidth": 0,
              "ticks": ""
             }
            },
            "type": "scattergl"
           }
          ],
          "scattermapbox": [
           {
            "marker": {
             "colorbar": {
              "outlinewidth": 0,
              "ticks": ""
             }
            },
            "type": "scattermapbox"
           }
          ],
          "scatterpolar": [
           {
            "marker": {
             "colorbar": {
              "outlinewidth": 0,
              "ticks": ""
             }
            },
            "type": "scatterpolar"
           }
          ],
          "scatterpolargl": [
           {
            "marker": {
             "colorbar": {
              "outlinewidth": 0,
              "ticks": ""
             }
            },
            "type": "scatterpolargl"
           }
          ],
          "scatterternary": [
           {
            "marker": {
             "colorbar": {
              "outlinewidth": 0,
              "ticks": ""
             }
            },
            "type": "scatterternary"
           }
          ],
          "surface": [
           {
            "colorbar": {
             "outlinewidth": 0,
             "ticks": ""
            },
            "colorscale": [
             [
              0,
              "#0d0887"
             ],
             [
              0.1111111111111111,
              "#46039f"
             ],
             [
              0.2222222222222222,
              "#7201a8"
             ],
             [
              0.3333333333333333,
              "#9c179e"
             ],
             [
              0.4444444444444444,
              "#bd3786"
             ],
             [
              0.5555555555555556,
              "#d8576b"
             ],
             [
              0.6666666666666666,
              "#ed7953"
             ],
             [
              0.7777777777777778,
              "#fb9f3a"
             ],
             [
              0.8888888888888888,
              "#fdca26"
             ],
             [
              1,
              "#f0f921"
             ]
            ],
            "type": "surface"
           }
          ],
          "table": [
           {
            "cells": {
             "fill": {
              "color": "#EBF0F8"
             },
             "line": {
              "color": "white"
             }
            },
            "header": {
             "fill": {
              "color": "#C8D4E3"
             },
             "line": {
              "color": "white"
             }
            },
            "type": "table"
           }
          ]
         },
         "layout": {
          "annotationdefaults": {
           "arrowcolor": "#2a3f5f",
           "arrowhead": 0,
           "arrowwidth": 1
          },
          "autotypenumbers": "strict",
          "coloraxis": {
           "colorbar": {
            "outlinewidth": 0,
            "ticks": ""
           }
          },
          "colorscale": {
           "diverging": [
            [
             0,
             "#8e0152"
            ],
            [
             0.1,
             "#c51b7d"
            ],
            [
             0.2,
             "#de77ae"
            ],
            [
             0.3,
             "#f1b6da"
            ],
            [
             0.4,
             "#fde0ef"
            ],
            [
             0.5,
             "#f7f7f7"
            ],
            [
             0.6,
             "#e6f5d0"
            ],
            [
             0.7,
             "#b8e186"
            ],
            [
             0.8,
             "#7fbc41"
            ],
            [
             0.9,
             "#4d9221"
            ],
            [
             1,
             "#276419"
            ]
           ],
           "sequential": [
            [
             0,
             "#0d0887"
            ],
            [
             0.1111111111111111,
             "#46039f"
            ],
            [
             0.2222222222222222,
             "#7201a8"
            ],
            [
             0.3333333333333333,
             "#9c179e"
            ],
            [
             0.4444444444444444,
             "#bd3786"
            ],
            [
             0.5555555555555556,
             "#d8576b"
            ],
            [
             0.6666666666666666,
             "#ed7953"
            ],
            [
             0.7777777777777778,
             "#fb9f3a"
            ],
            [
             0.8888888888888888,
             "#fdca26"
            ],
            [
             1,
             "#f0f921"
            ]
           ],
           "sequentialminus": [
            [
             0,
             "#0d0887"
            ],
            [
             0.1111111111111111,
             "#46039f"
            ],
            [
             0.2222222222222222,
             "#7201a8"
            ],
            [
             0.3333333333333333,
             "#9c179e"
            ],
            [
             0.4444444444444444,
             "#bd3786"
            ],
            [
             0.5555555555555556,
             "#d8576b"
            ],
            [
             0.6666666666666666,
             "#ed7953"
            ],
            [
             0.7777777777777778,
             "#fb9f3a"
            ],
            [
             0.8888888888888888,
             "#fdca26"
            ],
            [
             1,
             "#f0f921"
            ]
           ]
          },
          "colorway": [
           "#636efa",
           "#EF553B",
           "#00cc96",
           "#ab63fa",
           "#FFA15A",
           "#19d3f3",
           "#FF6692",
           "#B6E880",
           "#FF97FF",
           "#FECB52"
          ],
          "font": {
           "color": "#2a3f5f"
          },
          "geo": {
           "bgcolor": "white",
           "lakecolor": "white",
           "landcolor": "#E5ECF6",
           "showlakes": true,
           "showland": true,
           "subunitcolor": "white"
          },
          "hoverlabel": {
           "align": "left"
          },
          "hovermode": "closest",
          "mapbox": {
           "style": "light"
          },
          "paper_bgcolor": "white",
          "plot_bgcolor": "#E5ECF6",
          "polar": {
           "angularaxis": {
            "gridcolor": "white",
            "linecolor": "white",
            "ticks": ""
           },
           "bgcolor": "#E5ECF6",
           "radialaxis": {
            "gridcolor": "white",
            "linecolor": "white",
            "ticks": ""
           }
          },
          "scene": {
           "xaxis": {
            "backgroundcolor": "#E5ECF6",
            "gridcolor": "white",
            "gridwidth": 2,
            "linecolor": "white",
            "showbackground": true,
            "ticks": "",
            "zerolinecolor": "white"
           },
           "yaxis": {
            "backgroundcolor": "#E5ECF6",
            "gridcolor": "white",
            "gridwidth": 2,
            "linecolor": "white",
            "showbackground": true,
            "ticks": "",
            "zerolinecolor": "white"
           },
           "zaxis": {
            "backgroundcolor": "#E5ECF6",
            "gridcolor": "white",
            "gridwidth": 2,
            "linecolor": "white",
            "showbackground": true,
            "ticks": "",
            "zerolinecolor": "white"
           }
          },
          "shapedefaults": {
           "line": {
            "color": "#2a3f5f"
           }
          },
          "ternary": {
           "aaxis": {
            "gridcolor": "white",
            "linecolor": "white",
            "ticks": ""
           },
           "baxis": {
            "gridcolor": "white",
            "linecolor": "white",
            "ticks": ""
           },
           "bgcolor": "#E5ECF6",
           "caxis": {
            "gridcolor": "white",
            "linecolor": "white",
            "ticks": ""
           }
          },
          "title": {
           "x": 0.05
          },
          "xaxis": {
           "automargin": true,
           "gridcolor": "white",
           "linecolor": "white",
           "ticks": "",
           "title": {
            "standoff": 15
           },
           "zerolinecolor": "white",
           "zerolinewidth": 2
          },
          "yaxis": {
           "automargin": true,
           "gridcolor": "white",
           "linecolor": "white",
           "ticks": "",
           "title": {
            "standoff": 15
           },
           "zerolinecolor": "white",
           "zerolinewidth": 2
          }
         }
        }
       }
      },
      "text/html": [
       "<div>                            <div id=\"327abf9f-4f8d-45ef-a725-b12714db9af9\" class=\"plotly-graph-div\" style=\"height:525px; width:100%;\"></div>            <script type=\"text/javascript\">                require([\"plotly\"], function(Plotly) {                    window.PLOTLYENV=window.PLOTLYENV || {};                                    if (document.getElementById(\"327abf9f-4f8d-45ef-a725-b12714db9af9\")) {                    Plotly.newPlot(                        \"327abf9f-4f8d-45ef-a725-b12714db9af9\",                        [{\"hovertemplate\":\"lat=%{lat}\\u003cbr\\u003elong=%{lon}\\u003cbr\\u003eBUSINESS_OPEN_DATE=%{marker.color}\\u003cextra\\u003e\\u003c\\u002fextra\\u003e\",\"lat\":[47.285922,47.2083474,47.4608245,47.202475,47.5417828,47.554873998512136,47.54302455,47.4040951,47.34162485,47.546205549999996,47.75584345,47.459799000000004,47.406689150000005,47.2635689,47.46744975,47.26063885,47.51482955,47.524502,47.4981413,47.507669199999995,47.3696179,47.5281195,47.3185041,47.62034229657918,47.285226449999996,47.8064909,47.532902569711254,46.9856579,47.7366222,47.38718025,47.5156275,47.39270875,47.5378864,47.71085125,47.16436804935233,47.182848481970154,47.4624255,47.472957949999994,47.714891249999994,47.4826836,47.679731,47.36823,47.7257011,47.7171598,47.3115549,47.7307043,47.19197057142857,47.065029372483224,47.3956467,47.316625,47.5378864,47.31270235,47.70618125,47.196096196253414,47.463398,47.7196242,47.19993638364235,47.16971149809036,47.02419675,47.3956467,47.0154547755102,47.3956467,47.1228799261745,47.40641987986825,47.11082779591837,45.675731999999996,47.3865907,47.49545725,47.89540278869436,47.492504049999994,47.454021749999995,47.16520947455576,47.121895546233404,47.164211,47.095295070707074,47.36822105,47.7918239,47.235266323232324,47.218789,47.2881365,47.34447985,46.8017559,47.496591550000005,47.160673334407655,47.40349225,47.404659499999994,47.52208625,47.050913541478494,47.204274147168576,47.7902264,47.33085335,47.373841549999995,47.50856805,47.38637415,47.2787191,47.3162326,47.70761105,47.15911003899799,47.51649591658577,47.185189708000905,46.96486018281592,47.162605,47.09331817892826,47.3115549,47.480261350000006,47.2715011,47.46614265,47.078481422874304,47.4602708,47.7858437,47.183798,47.5205921,47.03790095353375,47.03790095353375,47.03790095353375,47.03790095353375,47.5373376,47.48008625,47.39546824999999,47.4602708,47.192697333333335,47.16325507725555,47.440782,47.850186970303135,47.163726027073,47.4065338,47.48594475,47.47487035,47.39818755,47.41743545,47.3687026,47.084143,47.40641987986825,47.3767814,47.381027,47.448373000000004,47.5427473,47.41743545,47.4648991,47.5506964,47.195151100000004,47.6845968,47.3667127,47.40410585,47.621791900000005,47.46614265,47.5403168,47.36928854300093,47.403877300000005,47.724348649999996,47.845134665216584,47.32091935,47.51657955,47.30395045,47.370000000000005,47.683242050000004,47.38777575,47.1703692,47.30228995,47.64036505,47.385190699999995,47.4758173,47.52774551778829,47.1667806122449,47.751276,47.78579345,47.4539781,47.75915495,46.867113700000004,47.05655959375161,47.365624600000004,47.5359443,47.35752895,47.4449905,47.3956467,47.381841,47.71900585,47.104053444444446,47.37419945,47.34447985,47.75380908450704,47.30548015,47.377250849999996,47.3745343,47.157989586149974,47.3706265,47.30091455,47.36928854300093,47.40696235,47.30471115,47.4422797,47.304218750000004,47.3219472,47.3706265,47.736084059090906,47.323939249999995,47.30894495,47.5470282,47.382878399999996,47.61159374326866,47.62791246564717,47.731085,47.40750455,47.349922449999994,47.17076247474748,47.47155575,47.61732965,47.530600050000004,47.207237309388034,47.27155038907736,47.2229907,47.16449401416644,47.164606283922154,47.22362410892025,47.182870089135726,47.18385982828283,47.1557009,47.17733361249717,47.255190999999996,47.34942241743775,47.20351153778399,47.211415343434346,47.2121129328859,47.23402859595959,47.235266323232324,47.25359832719312,47.16449401416644,47.197299,47.225443911635374,47.17395,47.21509795,47.27454346590424,47.139912,47.186270484848485,47.27392936363636,47.27021559183673,47.174841477011,47.1905294295302,47.18833710204082,47.201877111111116,47.677432249999995,47.2672715,47.6006742,47.176754242424245,47.66190145,47.24373847710803,47.20724237286663,47.235308,47.4982544,47.24643314285714,47.271274795918366,47.17875515151515,47.2325320082773,47.19726679591837,47.260459,47.186897814285715,47.3837436,47.16449401416644,47.265,47.2552647,47.69892575,47.23820638853159,47.24607691836735,47.2998456,47.51323775,47.287786,47.800172149999995,47.188995454545456,47.2040641,47.24735151020408,47.27442942867001,47.18199992842911,47.27454346590424,47.190512393594354,47.21254484883721,47.28308415151515,47.258783,47.17482036389322,47.17076929461614,47.19133332959867,47.084177,47.22029708080808,47.2979136,47.27451655,47.10427519527028,47.30670645,47.21222529700193,47.542396249999996,47.20339689795918,47.16449401416644,47.1867024080162,47.27315678409091,47.2229907,47.6724738,47.09751908,47.216868,47.17346957142857,47.480288200000004,47.209052,47.1692861,47.235266323232324,47.235266323232324,47.22838542857143,47.222075668799306,47.18568110528489,47.25514475,47.271145,47.1916953233807,47.249166999172346,47.176099,47.19213813060877,47.172216,47.21860044897959,47.26364025,47.19006016326531,47.264291,47.239340495582745,47.169191,47.200882,47.20908,47.252335877551026,47.1582,47.2167816,47.21686471428571,47.199369,47.2610108757764,47.25189945885786,47.20322885,47.24050865306122,47.21893525,47.20430085273312,47.217388306122444,47.23369790976534,47.220711590604026,47.20005016161616,47.21974491860062,47.15936606122449,47.30066773754966,47.183064015410615,47.24050865306122,47.256013510204085,47.221598609308785,47.19018589795918,47.181949,47.211264092661786,47.229237,47.2183657,47.25053033333333,47.16449401416644,47.174841477011,47.283736805555556,47.17149892042642,47.386141249999994,47.6167205,47.153594118878196,47.2201131,47.12581958790487,47.171010646464644,47.235266323232324,47.3074229,47.21361349113377,47.174841477011,47.278659149999996,47.2263581,47.25724451515151,47.174193672,47.34942241743775,47.233282714285714,47.288659546338984,47.086246216080404,47.258963,47.213536,47.235308,47.22525618367347,47.25171227516779,47.19213813060877,47.232067,47.18305728624466,47.197226848484846,47.26664966834171,47.28175318073146,47.2955582,47.31731375,47.251635,47.231905734693875,47.174841477011,47.4897898,47.1018975033557,47.084405,47.225699,47.286492,47.226348,47.240294090909096,47.17906311055276,47.25377153488372,47.23886722600404,47.38725005,47.21281894111901,47.21454971428571,47.235266323232324,47.173378,47.17482036389322,47.678671449999996,47.2231166,47.25584830463645,47.21979436363636,47.17222932653061,47.260384306122454,47.24148088888889,47.2167816,47.200640111111106,47.236429101176256,47.220997702702704,47.24711145,47.235266323232324,47.6457398,47.26472408163265,47.164328755547864,47.22292503899077,47.69892575,47.481338050000005,47.4433545,47.2198886,47.6391607,47.252470848484855,47.235308,47.18819606122449,47.21208204081633,47.218248369127515,47.2356425,47.21847973469388,47.21454971428571,47.235308,47.3238687,47.17164991836734,47.198779822441466,47.23986267561751,47.181026,47.204841,47.34942241743775,47.34942241743775,47.34942241743775,47.7034285,47.151408,47.1700528,47.242421285714286,47.21545721598536,47.235266323232324,47.18279465771812,47.19892189795918,47.173615476444816,47.257089001134176,47.228041333839236,47.229856,47.248718,47.197299,47.2264208,47.5794207,47.22837143434344,47.30268699199032,47.5786053,47.203485037161144,47.2566057,47.207237309388034,47.04088711111111,47.243893428571425,47.28308415151515,47.22290163636363,47.26386714141414,47.27793469724448,47.009644571428574,47.413789,47.479164600000004,47.7222558,47.82199619272984,47.5334734,47.202130999999994,47.206213290803625,47.19345550505051,47.30697406060606,47.124616,47.2042686,47.26188891836735,47.235266323232324,47.235266323232324,47.273057615384616,47.2744713,47.214535363636365,47.213616306122454,47.27641,47.23952293877551,47.4737561,47.27442942867001,47.21625014285714,47.18981163731511,47.17559266666667,47.235266323232324,47.27638,47.16449401416644,47.1410464409422,47.2231166,47.235266323232324,47.17218279591837,47.9149657,47.27639405,47.31867205,47.343640300000004,47.58895574271042,47.294472150000004,47.2455013,47.394426749999994,47.495327700000004,47.25702151241008,47.192739,47.161151,47.251491787878784,47.580184599999995,46.99645721058648,47.24777439784946,47.683016249999994,47.2500235045659,47.174841477011],\"legendgroup\":\"\",\"lon\":[-122.11367938839285,-122.2838768,-122.281531,-122.288569,-122.26847999977564,-122.11307098859622,-122.36221435496209,-122.20366741743891,-122.3069669287398,-122.29972272143311,-122.18839172589205,-122.2746895,-122.27641550506854,-122.2794534765404,-122.32681227311741,-122.29421767381986,-122.26615729759526,-122.36084916674884,-122.16263804731443,-122.30529265,-122.29845990216205,-122.36083934380409,-122.3026301,-122.20448273423719,-122.36023677700001,-122.2968445,-121.84762289754741,-122.2256697,-122.2164326,-122.1559442378628,-122.3430492,-122.15571279177924,-122.3349917,-122.30287753891035,-122.28633265903585,-122.54387245730001,-122.1687171245094,-122.28727406963489,-122.31280177289517,-122.24456885324254,-122.106627,-122.17789966229698,-122.163009,-122.19514827720731,-122.3058049,-122.1719841,-122.26469725396825,-122.25595152013423,-122.28585222010261,-122.3357453,-122.3349917,-122.33020600207925,-122.33100636339839,-122.32372699193479,-122.15446796514479,-122.2948337,-122.32530613001686,-122.02006363817982,-122.92093550254056,-122.18613029365255,-122.90800563265306,-122.28585222010261,-122.55190766442952,-122.29865521949873,-122.43232183673469,-122.64140575174825,-122.18218775552191,-122.36533091684413,-122.30076709440758,-122.27418012500002,-122.35321139999999,-122.28574690151348,-122.4520632740039,-122.294136,-122.40237885858586,-122.31820450000001,-122.32645584994651,-122.53575953535353,-122.309811,-122.17662720000001,-122.31112104937216,-122.2419186,-122.23792052250785,-122.56217124114092,-122.28313801992377,-122.28090699792568,-122.16343067717587,-122.30878185706045,-122.27346804437497,-122.35769381985588,-122.30182087065135,-122.1470985922316,-122.30578305668291,-122.17037535499666,-122.34669265,-122.3596841,-122.11774946282492,-122.18830489895461,-122.6246282463596,-122.31720253977844,-122.59165301533135,-122.573919,-122.67547980116177,-122.3058049,-122.18368983626436,-122.2364402837799,-122.2635433713549,-122.40357588109987,-122.17208855,-122.3469084,-122.148282,-122.37376685,-122.83002759533225,-122.83002759533225,-122.83002759533225,-122.83002759533225,-122.2851609,-122.31997725414391,-122.1686469035136,-122.17208855,-122.290836,-122.58790601906342,-122.18707723962117,-121.68401311413095,-122.27114801257284,-122.27713807793103,-122.31843820122072,-122.28801372595592,-122.32061181786858,-122.29124199301339,-122.16602460829853,-122.212454,-122.29865521949873,-122.11696904988023,-122.2608732,-122.2923265670262,-122.2931638,-122.29124199301339,-122.32462445,-122.28240549942433,-121.97476405,-122.1237269337762,-122.17913683989448,-122.2769251768909,-122.32332616357922,-122.2635433713549,-122.38572276698389,-122.19303181933384,-122.18994383297414,-122.34725170266411,-122.2871874751579,-122.33800850053035,-122.26827734504174,-122.20417831523753,-122.29974642517523,-122.29798790114975,-122.17252876471605,-122.596287,-122.3583267451881,-122.3869471,-122.0317201,-122.28178205,-122.03006505320346,-122.60677608163265,-122.120922,-122.18772786713663,-122.1716508258146,-122.23324690831447,-122.26755324999999,-122.30621007091564,-122.02754572440456,-122.3770276,-122.10138694158326,-122.2875771,-122.28585222010261,-122.3191344,-122.34033121012388,-122.42162422222222,-122.28828369750275,-122.31112104937216,-122.30402894366198,-122.28341914730768,-122.19290131140801,-122.1767636,-122.19776577093437,-122.20815070200001,-122.34235820206209,-122.19303181933384,-122.28020910594512,-122.36783354069888,-122.28719483266725,-122.34601995278979,-122.1803466,-122.20815070200001,-122.33715443636363,-122.30990412407616,-122.3447091940869,-122.3721147,-122.08854708344487,-122.15034919556155,-122.11393645841997,-122.31360340636314,-122.30897915315026,-122.1377654747898,-122.29359756565657,-122.281486,-122.32600910661014,-122.27412986210919,-122.49784015866734,-122.36453152939829,-122.4633704,-122.49459814083336,-122.50748373534176,-122.52958301703734,-122.5493346614846,-122.45462312121212,-122.36188261917145,-122.48113156233104,-122.44963046938776,-122.22494950689504,-122.41489518302784,-122.44464367676767,-122.50706676510067,-122.48620285858586,-122.53575953535353,-122.52567506374959,-122.49459814083336,-122.492655,-122.34409730693044,-122.48074721052632,-122.53591430352355,-122.36972943954105,-122.526138,-122.45533472727273,-122.36381163636364,-122.49200467346938,-122.46531138871684,-122.45914222818791,-122.51024777551021,-122.42560496969696,-122.38296002454268,-122.23246457028793,-122.3351764,-122.53066021212122,-122.40329070576419,-122.44677891625872,-122.42461750006484,-122.555082,-122.1631706,-122.47659342857142,-122.50513759183674,-122.43821101010101,-122.50900965778808,-122.4302659387755,-122.456593,-122.42605441428572,-122.31260932496488,-122.49459814083336,-122.460053,-122.21853638532066,-122.34643125745892,-122.46512770712654,-122.45611338775511,-122.21303565590756,-122.1763286433432,-122.373143,-122.37783147965702,-122.55540327272728,-122.3287919,-122.4466076122449,-122.51574759049946,-122.54857652781607,-122.36972943954105,-122.56233040427283,-122.44196770930232,-122.51567690909091,-122.49257855886873,-122.46540432563009,-122.51203598939136,-122.45417251789279,-122.428153,-122.41620672727272,-122.5322044,-122.22295215,-122.43468916127274,-122.31008505009683,-122.50512166676944,-122.35463050012947,-122.4037345510204,-122.49459814083336,-122.5403383032109,-122.51575288068182,-122.4633704,-122.3636847,-122.643724664,-122.47386,-122.5120576122449,-122.18826072992863,-122.40954083673469,-122.4593579,-122.53575953535353,-122.53575953535353,-122.42171357142858,-122.51642330936865,-122.51737553162162,-122.534194,-122.491901,-122.49148343437021,-122.52644780718805,-122.43658169565217,-122.53958752146984,-122.30876,-122.47955238775509,-122.44985415,-122.42597634693877,-122.447573,-122.53016219772825,-122.44201,-122.40945072727273,-122.415114,-122.44774079591836,-122.255976,-122.4340178,-122.480925,-122.508545,-122.51603833540372,-122.52092331171322,-122.50494512448194,-122.46179610204082,-122.50692275,-122.50473172090032,-122.45291697959183,-122.50546538156351,-122.54023990604027,-122.42563065656566,-122.40630646484225,-122.50106073469388,-122.40265181835998,-122.5269717478574,-122.46179610204082,-122.46155671428572,-122.40494904108346,-122.44274248979592,-122.548506,-122.46632942272205,-122.4897066,-122.4376588,-122.51298033333335,-122.49459814083336,-122.46531138871684,-122.38126661805556,-122.42635839483087,-122.25201209211107,-122.3097957,-122.50468994265596,-122.4618639,-122.426733690056,-122.45928938383838,-122.53575953535353,-122.30474980063457,-122.40970310729956,-122.46531138871684,-122.22251207453007,-122.3987783,-122.44259796969696,-122.436576792,-122.22494950689504,-122.49354671428571,-122.38978271882083,-122.41789547236182,-122.441815,-122.437298,-122.555082,-122.33631144897959,-122.52268787919463,-122.53958752146984,-122.41373528571428,-122.54390522733502,-122.48123933333333,-122.51813586432161,-122.5131572408847,-122.37281313783673,-122.38447330478571,-122.526245,-122.41500387755103,-122.46531138871684,-122.32026255344672,-122.42295410738255,-122.40548229025337,-122.44782424489796,-122.372477,-122.476543,-122.46265766666666,-122.4632837839196,-122.4645796744186,-122.52163792625618,-122.25759173099064,-122.4122257922048,-122.47383424489796,-122.53575953535353,-122.46324411111111,-122.46540432563009,-122.30848315288654,-122.4196411,-122.53686577438923,-122.4479353939394,-122.46374455102041,-122.45977259183672,-122.5301104888889,-122.4340178,-122.48098011111111,-122.3533284634913,-122.47348272972972,-122.44059385,-122.53575953535353,-122.37526374529367,-122.45546487755101,-122.43427075202241,-122.49323464229126,-122.34643125745892,-122.28815982694806,-122.2889149717806,-122.444845,-122.14535629288389,-122.4429815959596,-122.555082,-122.29528508163266,-122.4117848367347,-122.47351543624161,-122.43931391098513,-122.4267465510204,-122.47383424489796,-122.555082,-122.2171815,-122.52758620408163,-122.30439000534962,-122.55368378146851,-122.457994,-122.272951,-122.22494950689504,-122.22494950689504,-122.22494950689504,-122.342496,-122.506888,-122.4340924,-122.48372485714286,-122.55096900808418,-122.53575953535353,-122.4745826375839,-122.41112283673469,-122.5145681915861,-122.30898602405814,-122.50502014358305,-122.456071,-122.53688366666667,-122.492655,-122.3579285,-122.3050668,-122.29643963636364,-122.39499531637023,-122.4089862,-122.51163291442775,-122.531339,-122.49784015866734,-122.84046672222223,-122.51284775510204,-122.51567690909091,-122.44913136363635,-122.4694178989899,-122.52066301687395,-122.86617787755101,-122.1855319217128,-122.18090704109841,-122.32168385413908,-122.33251716227709,-122.2694738,-122.52296177707399,-122.49966460692801,-122.44599062626263,-122.41956867676767,-122.537743,-122.2464048,-122.46085087755101,-122.53575953535353,-122.53575953535353,-122.48668576923076,-122.4612609,-122.41659581818182,-122.47359986734695,-122.52163260655738,-122.4492857755102,-122.28907584999999,-122.51574759049946,-122.42490938775511,-122.56257384802285,-122.45709566666667,-122.53575953535353,-122.2255535,-122.49459814083336,-122.50733709750739,-122.4196411,-122.53575953535353,-122.46379353061225,-122.2450797,-122.14707805104445,-122.3960872752306,-122.30772250409836,-122.1458423411959,-122.20961724132076,-122.438329,-122.27169995046658,-122.25283485281923,-122.53284985107904,-121.9940355,-122.506301,-122.530088,-122.31446198487068,-122.79775900723928,-122.3221566344086,-122.16479824635056,-122.5234916453218,-122.46531138871684],\"marker\":{\"color\":[1640995200000.0,1466380800000.0,1672531200000.0,1609459200000.0,1525651200000.0,1525651200000.0,1525651200000.0,1609459200000.0,1640995200000.0,1561680000000.0,1569542400000.0,1569542400000.0,1561680000000.0,1561680000000.0,1561075200000.0,1456790400000.0,1545955200000.0,1545955200000.0,1576195200000.0,1646092800000.0,1646092800000.0,1574985600000.0,1547769600000.0,1547769600000.0,1676592000000.0,1560470400000.0,1547769600000.0,1609459200000.0,1525651200000.0,1525651200000.0,1573171200000.0,1570147200000.0,1570147200000.0,1562889600000.0,1551398400000.0,1562889600000.0,1527811200000.0,1414713600000.0,1560816000000.0,1560816000000.0,1560816000000.0,1640995200000.0,1525651200000.0,1527811200000.0,1640995200000.0,1525651200000.0,1492732800000.0,1506297600000.0,1609459200000.0,1609459200000.0,1618531200000.0,1620345600000.0,1622160000000.0,1580428800000.0,1561075200000.0,1557446400000.0,1553212800000.0,1454284800000.0,1643155200000.0,1640995200000.0,1566345600000.0,1626825600000.0,1397088000000.0,1418256000000.0,1584057600000.0,1565136000000.0,1525651200000.0,1525651200000.0,1564099200000.0,1646092800000.0,1640995200000.0,1473292800000.0,1461283200000.0,1609459200000.0,1609459200000.0,1575590400000.0,1575590400000.0,1546300800000.0,1679616000000.0,1643673600000.0,1643673600000.0,1640995200000.0,1646092800000.0,1504569600000.0,1564704000000.0,1571356800000.0,1562025600000.0,1646092800000.0,1536883200000.0,1536278400000.0,1646092800000.0,1640995200000.0,1560816000000.0,1560816000000.0,1577836800000.0,1577836800000.0,1560816000000.0,1448409600000.0,1437955200000.0,1438819200000.0,1528416000000.0,1518134400000.0,1507075200000.0,1609459200000.0,1654041600000.0,1652745600000.0,1609459200000.0,1596499200000.0,1567123200000.0,1553817600000.0,1458604800000.0,1546300800000.0,1667779200000.0,1667779200000.0,1667779200000.0,1667779200000.0,1643673600000.0,1640995200000.0,1555632000000.0,1567123200000.0,1570752000000.0,1640995200000.0,1640995200000.0,1640995200000.0,1640995200000.0,1640995200000.0,1643673600000.0,1643673600000.0,1643673600000.0,1643673600000.0,1643673600000.0,1643673600000.0,1646092800000.0,1646092800000.0,1646092800000.0,1646092800000.0,1646092800000.0,1643673600000.0,1646092800000.0,1564099200000.0,1609459200000.0,1571961600000.0,1564704000000.0,1577836800000.0,1548374400000.0,1525651200000.0,1644883200000.0,1525651200000.0,1604102400000.0,1525651200000.0,1525651200000.0,1525651200000.0,1574208000000.0,1544140800000.0,1566518400000.0,1553212800000.0,1538697600000.0,1553212800000.0,1640995200000.0,1536278400000.0,1550793600000.0,1553212800000.0,1552608000000.0,1640995200000.0,1555632000000.0,1548979200000.0,1529625600000.0,1525132800000.0,1617753600000.0,1572566400000.0,1525651200000.0,1525651200000.0,1640995200000.0,1646092800000.0,1640995200000.0,1621555200000.0,1533254400000.0,1540512000000.0,1643673600000.0,1562889600000.0,1630454400000.0,1609459200000.0,1527811200000.0,1525651200000.0,1525651200000.0,1525651200000.0,1643673600000.0,1643673600000.0,1643673600000.0,1525651200000.0,1525651200000.0,1640995200000.0,1596240000000.0,1525651200000.0,1525651200000.0,1560816000000.0,1568937600000.0,1544745600000.0,1537488000000.0,1537488000000.0,1525651200000.0,1530230400000.0,1640995200000.0,1525651200000.0,1609459200000.0,1525651200000.0,1640995200000.0,1560816000000.0,1609459200000.0,1677456000000.0,1456099200000.0,1435708800000.0,1477958400000.0,1640995200000.0,1609459200000.0,1457395200000.0,1646092800000.0,1486339200000.0,1505347200000.0,1623715200000.0,1640995200000.0,1684713600000.0,1466467200000.0,1655596800000.0,1642464000000.0,1661731200000.0,1548633600000.0,1489968000000.0,1582502400000.0,1677974400000.0,1670544000000.0,1630454400000.0,1609459200000.0,1586217600000.0,1577836800000.0,1640995200000.0,1629158400000.0,1640995200000.0,1641772800000.0,1080777600000.0,1525651200000.0,1525651200000.0,1525651200000.0,1609459200000.0,1530230400000.0,1609459200000.0,1672531200000.0,1660521600000.0,1574985600000.0,1672531200000.0,1672531200000.0,1605571200000.0,1433808000000.0,1605571200000.0,1640995200000.0,1605571200000.0,1525651200000.0,1330992000000.0,1626652800000.0,1558051200000.0,1558051200000.0,1619740800000.0,1381104000000.0,1560816000000.0,1640995200000.0,1601596800000.0,1525651200000.0,1643673600000.0,1362528000000.0,1672531200000.0,1640995200000.0,1493337600000.0,1632787200000.0,1609459200000.0,1609459200000.0,1609459200000.0,1609459200000.0,1609459200000.0,1571961600000.0,1553212800000.0,1684108800000.0,1681344000000.0,1500595200000.0,1672531200000.0,1636070400000.0,1640995200000.0,1640995200000.0,1640995200000.0,1609459200000.0,1472083200000.0,1624579200000.0,1525132800000.0,1609459200000.0,1571961600000.0,1392854400000.0,1640995200000.0,1681689600000.0,1525651200000.0,1494979200000.0,1553817600000.0,1683504000000.0,1683504000000.0,1482105600000.0,1490313600000.0,1500854400000.0,1640995200000.0,1257033600000.0,1620172800000.0,1640995200000.0,1643673600000.0,1646092800000.0,1640995200000.0,1544054400000.0,1601596800000.0,1609459200000.0,1640995200000.0,1640995200000.0,1640995200000.0,1609459200000.0,1605571200000.0,1605571200000.0,1628121600000.0,1530230400000.0,1609459200000.0,1629158400000.0,1577836800000.0,1672531200000.0,1609459200000.0,1652140800000.0,1640995200000.0,1527552000000.0,1550793600000.0,1138320000000.0,1672531200000.0,1579824000000.0,1640995200000.0,1672531200000.0,1672531200000.0,1625529600000.0,1672704000000.0,1626739200000.0,1640995200000.0,1609459200000.0,1651363200000.0,1672531200000.0,1640995200000.0,1640995200000.0,1467331200000.0,1388620800000.0,1640995200000.0,1525651200000.0,1640995200000.0,1563494400000.0,1565308800000.0,1571961600000.0,1640995200000.0,1674086400000.0,1640995200000.0,1643587200000.0,1505174400000.0,1526601600000.0,1670976000000.0,1472428800000.0,1683244800000.0,1661990400000.0,1672531200000.0,1646092800000.0,1672531200000.0,1609459200000.0,1433116800000.0,1627776000000.0,1605571200000.0,1686700800000.0,1609459200000.0,1672531200000.0,1533081600000.0,1378339200000.0,1343865600000.0,1500249600000.0,1646092800000.0,1609459200000.0,1525651200000.0,1541116800000.0,1672531200000.0,1643673600000.0,1656288000000.0,1533859200000.0,1515715200000.0,1609459200000.0,1670976000000.0,1672531200000.0,1296777600000.0,1609459200000.0,1601856000000.0,1609459200000.0,1476662400000.0,1640995200000.0,1609459200000.0,1493164800000.0,1687219200000.0,1643673600000.0,1683590400000.0,1560816000000.0,1429920000000.0,1459123200000.0,1509494400000.0,1643673600000.0,1672531200000.0,1483401600000.0,1647388800000.0,1609459200000.0,1640995200000.0,1640995200000.0,1672531200000.0,1659657600000.0,1552608000000.0,1338940800000.0,1513728000000.0,1474502400000.0,1536278400000.0,1560816000000.0,1560816000000.0,1560816000000.0,1550188800000.0,1446163200000.0,1663804800000.0,1640995200000.0,1485993600000.0,1640995200000.0,1646697600000.0,1550793600000.0,1605571200000.0,1532304000000.0,1646092800000.0,1609459200000.0,1567123200000.0,1640995200000.0,1640995200000.0,1640995200000.0,1643673600000.0,1643673600000.0,1646092800000.0,1646092800000.0,1646092800000.0,1640995200000.0,1640995200000.0,1643155200000.0,1641427200000.0,1640995200000.0,1640995200000.0,1640995200000.0,1607040000000.0,1548979200000.0,1607299200000.0,1488758400000.0,1488326400000.0,1525651200000.0,1535673600000.0,1542931200000.0,1548374400000.0,1555027200000.0,1656547200000.0,1640995200000.0,1606176000000.0,1356998400000.0,1288569600000.0,1599523200000.0,1426204800000.0,1503446400000.0,1640995200000.0,1551398400000.0,1564704000000.0,1553212800000.0,1555632000000.0,1555632000000.0,1544745600000.0,1605571200000.0,1530835200000.0,1577836800000.0,1523577600000.0,1633392000000.0,1472601600000.0,1470960000000.0,1352073600000.0,1414108800000.0,1636070400000.0,1654473600000.0,1609459200000.0,1545350400000.0,1609459200000.0,1508716800000.0,1529625600000.0,1640995200000.0,1524182400000.0,1640995200000.0,1471392000000.0,1677542400000.0,1104883200000.0,1672531200000.0,1672531200000.0,1459900800000.0,1654992000000.0,1640995200000.0,1533254400000.0,1533254400000.0,1609459200000.0,1622160000000.0,1525651200000.0,1525651200000.0,1609459200000.0,1560816000000.0,1646092800000.0,1609459200000.0,1525651200000.0,1577836800000.0,1628121600000.0,1525651200000.0,1573776000000.0,1669852800000.0,1560816000000.0,1640995200000.0,1623024000000.0],\"coloraxis\":\"coloraxis\"},\"mode\":\"markers\",\"name\":\"\",\"showlegend\":false,\"subplot\":\"mapbox\",\"type\":\"scattermapbox\"}],                        {\"template\":{\"data\":{\"histogram2dcontour\":[{\"type\":\"histogram2dcontour\",\"colorbar\":{\"outlinewidth\":0,\"ticks\":\"\"},\"colorscale\":[[0.0,\"#0d0887\"],[0.1111111111111111,\"#46039f\"],[0.2222222222222222,\"#7201a8\"],[0.3333333333333333,\"#9c179e\"],[0.4444444444444444,\"#bd3786\"],[0.5555555555555556,\"#d8576b\"],[0.6666666666666666,\"#ed7953\"],[0.7777777777777778,\"#fb9f3a\"],[0.8888888888888888,\"#fdca26\"],[1.0,\"#f0f921\"]]}],\"choropleth\":[{\"type\":\"choropleth\",\"colorbar\":{\"outlinewidth\":0,\"ticks\":\"\"}}],\"histogram2d\":[{\"type\":\"histogram2d\",\"colorbar\":{\"outlinewidth\":0,\"ticks\":\"\"},\"colorscale\":[[0.0,\"#0d0887\"],[0.1111111111111111,\"#46039f\"],[0.2222222222222222,\"#7201a8\"],[0.3333333333333333,\"#9c179e\"],[0.4444444444444444,\"#bd3786\"],[0.5555555555555556,\"#d8576b\"],[0.6666666666666666,\"#ed7953\"],[0.7777777777777778,\"#fb9f3a\"],[0.8888888888888888,\"#fdca26\"],[1.0,\"#f0f921\"]]}],\"heatmap\":[{\"type\":\"heatmap\",\"colorbar\":{\"outlinewidth\":0,\"ticks\":\"\"},\"colorscale\":[[0.0,\"#0d0887\"],[0.1111111111111111,\"#46039f\"],[0.2222222222222222,\"#7201a8\"],[0.3333333333333333,\"#9c179e\"],[0.4444444444444444,\"#bd3786\"],[0.5555555555555556,\"#d8576b\"],[0.6666666666666666,\"#ed7953\"],[0.7777777777777778,\"#fb9f3a\"],[0.8888888888888888,\"#fdca26\"],[1.0,\"#f0f921\"]]}],\"heatmapgl\":[{\"type\":\"heatmapgl\",\"colorbar\":{\"outlinewidth\":0,\"ticks\":\"\"},\"colorscale\":[[0.0,\"#0d0887\"],[0.1111111111111111,\"#46039f\"],[0.2222222222222222,\"#7201a8\"],[0.3333333333333333,\"#9c179e\"],[0.4444444444444444,\"#bd3786\"],[0.5555555555555556,\"#d8576b\"],[0.6666666666666666,\"#ed7953\"],[0.7777777777777778,\"#fb9f3a\"],[0.8888888888888888,\"#fdca26\"],[1.0,\"#f0f921\"]]}],\"contourcarpet\":[{\"type\":\"contourcarpet\",\"colorbar\":{\"outlinewidth\":0,\"ticks\":\"\"}}],\"contour\":[{\"type\":\"contour\",\"colorbar\":{\"outlinewidth\":0,\"ticks\":\"\"},\"colorscale\":[[0.0,\"#0d0887\"],[0.1111111111111111,\"#46039f\"],[0.2222222222222222,\"#7201a8\"],[0.3333333333333333,\"#9c179e\"],[0.4444444444444444,\"#bd3786\"],[0.5555555555555556,\"#d8576b\"],[0.6666666666666666,\"#ed7953\"],[0.7777777777777778,\"#fb9f3a\"],[0.8888888888888888,\"#fdca26\"],[1.0,\"#f0f921\"]]}],\"surface\":[{\"type\":\"surface\",\"colorbar\":{\"outlinewidth\":0,\"ticks\":\"\"},\"colorscale\":[[0.0,\"#0d0887\"],[0.1111111111111111,\"#46039f\"],[0.2222222222222222,\"#7201a8\"],[0.3333333333333333,\"#9c179e\"],[0.4444444444444444,\"#bd3786\"],[0.5555555555555556,\"#d8576b\"],[0.6666666666666666,\"#ed7953\"],[0.7777777777777778,\"#fb9f3a\"],[0.8888888888888888,\"#fdca26\"],[1.0,\"#f0f921\"]]}],\"mesh3d\":[{\"type\":\"mesh3d\",\"colorbar\":{\"outlinewidth\":0,\"ticks\":\"\"}}],\"scatter\":[{\"fillpattern\":{\"fillmode\":\"overlay\",\"size\":10,\"solidity\":0.2},\"type\":\"scatter\"}],\"parcoords\":[{\"type\":\"parcoords\",\"line\":{\"colorbar\":{\"outlinewidth\":0,\"ticks\":\"\"}}}],\"scatterpolargl\":[{\"type\":\"scatterpolargl\",\"marker\":{\"colorbar\":{\"outlinewidth\":0,\"ticks\":\"\"}}}],\"bar\":[{\"error_x\":{\"color\":\"#2a3f5f\"},\"error_y\":{\"color\":\"#2a3f5f\"},\"marker\":{\"line\":{\"color\":\"#E5ECF6\",\"width\":0.5},\"pattern\":{\"fillmode\":\"overlay\",\"size\":10,\"solidity\":0.2}},\"type\":\"bar\"}],\"scattergeo\":[{\"type\":\"scattergeo\",\"marker\":{\"colorbar\":{\"outlinewidth\":0,\"ticks\":\"\"}}}],\"scatterpolar\":[{\"type\":\"scatterpolar\",\"marker\":{\"colorbar\":{\"outlinewidth\":0,\"ticks\":\"\"}}}],\"histogram\":[{\"marker\":{\"pattern\":{\"fillmode\":\"overlay\",\"size\":10,\"solidity\":0.2}},\"type\":\"histogram\"}],\"scattergl\":[{\"type\":\"scattergl\",\"marker\":{\"colorbar\":{\"outlinewidth\":0,\"ticks\":\"\"}}}],\"scatter3d\":[{\"type\":\"scatter3d\",\"line\":{\"colorbar\":{\"outlinewidth\":0,\"ticks\":\"\"}},\"marker\":{\"colorbar\":{\"outlinewidth\":0,\"ticks\":\"\"}}}],\"scattermapbox\":[{\"type\":\"scattermapbox\",\"marker\":{\"colorbar\":{\"outlinewidth\":0,\"ticks\":\"\"}}}],\"scatterternary\":[{\"type\":\"scatterternary\",\"marker\":{\"colorbar\":{\"outlinewidth\":0,\"ticks\":\"\"}}}],\"scattercarpet\":[{\"type\":\"scattercarpet\",\"marker\":{\"colorbar\":{\"outlinewidth\":0,\"ticks\":\"\"}}}],\"carpet\":[{\"aaxis\":{\"endlinecolor\":\"#2a3f5f\",\"gridcolor\":\"white\",\"linecolor\":\"white\",\"minorgridcolor\":\"white\",\"startlinecolor\":\"#2a3f5f\"},\"baxis\":{\"endlinecolor\":\"#2a3f5f\",\"gridcolor\":\"white\",\"linecolor\":\"white\",\"minorgridcolor\":\"white\",\"startlinecolor\":\"#2a3f5f\"},\"type\":\"carpet\"}],\"table\":[{\"cells\":{\"fill\":{\"color\":\"#EBF0F8\"},\"line\":{\"color\":\"white\"}},\"header\":{\"fill\":{\"color\":\"#C8D4E3\"},\"line\":{\"color\":\"white\"}},\"type\":\"table\"}],\"barpolar\":[{\"marker\":{\"line\":{\"color\":\"#E5ECF6\",\"width\":0.5},\"pattern\":{\"fillmode\":\"overlay\",\"size\":10,\"solidity\":0.2}},\"type\":\"barpolar\"}],\"pie\":[{\"automargin\":true,\"type\":\"pie\"}]},\"layout\":{\"autotypenumbers\":\"strict\",\"colorway\":[\"#636efa\",\"#EF553B\",\"#00cc96\",\"#ab63fa\",\"#FFA15A\",\"#19d3f3\",\"#FF6692\",\"#B6E880\",\"#FF97FF\",\"#FECB52\"],\"font\":{\"color\":\"#2a3f5f\"},\"hovermode\":\"closest\",\"hoverlabel\":{\"align\":\"left\"},\"paper_bgcolor\":\"white\",\"plot_bgcolor\":\"#E5ECF6\",\"polar\":{\"bgcolor\":\"#E5ECF6\",\"angularaxis\":{\"gridcolor\":\"white\",\"linecolor\":\"white\",\"ticks\":\"\"},\"radialaxis\":{\"gridcolor\":\"white\",\"linecolor\":\"white\",\"ticks\":\"\"}},\"ternary\":{\"bgcolor\":\"#E5ECF6\",\"aaxis\":{\"gridcolor\":\"white\",\"linecolor\":\"white\",\"ticks\":\"\"},\"baxis\":{\"gridcolor\":\"white\",\"linecolor\":\"white\",\"ticks\":\"\"},\"caxis\":{\"gridcolor\":\"white\",\"linecolor\":\"white\",\"ticks\":\"\"}},\"coloraxis\":{\"colorbar\":{\"outlinewidth\":0,\"ticks\":\"\"}},\"colorscale\":{\"sequential\":[[0.0,\"#0d0887\"],[0.1111111111111111,\"#46039f\"],[0.2222222222222222,\"#7201a8\"],[0.3333333333333333,\"#9c179e\"],[0.4444444444444444,\"#bd3786\"],[0.5555555555555556,\"#d8576b\"],[0.6666666666666666,\"#ed7953\"],[0.7777777777777778,\"#fb9f3a\"],[0.8888888888888888,\"#fdca26\"],[1.0,\"#f0f921\"]],\"sequentialminus\":[[0.0,\"#0d0887\"],[0.1111111111111111,\"#46039f\"],[0.2222222222222222,\"#7201a8\"],[0.3333333333333333,\"#9c179e\"],[0.4444444444444444,\"#bd3786\"],[0.5555555555555556,\"#d8576b\"],[0.6666666666666666,\"#ed7953\"],[0.7777777777777778,\"#fb9f3a\"],[0.8888888888888888,\"#fdca26\"],[1.0,\"#f0f921\"]],\"diverging\":[[0,\"#8e0152\"],[0.1,\"#c51b7d\"],[0.2,\"#de77ae\"],[0.3,\"#f1b6da\"],[0.4,\"#fde0ef\"],[0.5,\"#f7f7f7\"],[0.6,\"#e6f5d0\"],[0.7,\"#b8e186\"],[0.8,\"#7fbc41\"],[0.9,\"#4d9221\"],[1,\"#276419\"]]},\"xaxis\":{\"gridcolor\":\"white\",\"linecolor\":\"white\",\"ticks\":\"\",\"title\":{\"standoff\":15},\"zerolinecolor\":\"white\",\"automargin\":true,\"zerolinewidth\":2},\"yaxis\":{\"gridcolor\":\"white\",\"linecolor\":\"white\",\"ticks\":\"\",\"title\":{\"standoff\":15},\"zerolinecolor\":\"white\",\"automargin\":true,\"zerolinewidth\":2},\"scene\":{\"xaxis\":{\"backgroundcolor\":\"#E5ECF6\",\"gridcolor\":\"white\",\"linecolor\":\"white\",\"showbackground\":true,\"ticks\":\"\",\"zerolinecolor\":\"white\",\"gridwidth\":2},\"yaxis\":{\"backgroundcolor\":\"#E5ECF6\",\"gridcolor\":\"white\",\"linecolor\":\"white\",\"showbackground\":true,\"ticks\":\"\",\"zerolinecolor\":\"white\",\"gridwidth\":2},\"zaxis\":{\"backgroundcolor\":\"#E5ECF6\",\"gridcolor\":\"white\",\"linecolor\":\"white\",\"showbackground\":true,\"ticks\":\"\",\"zerolinecolor\":\"white\",\"gridwidth\":2}},\"shapedefaults\":{\"line\":{\"color\":\"#2a3f5f\"}},\"annotationdefaults\":{\"arrowcolor\":\"#2a3f5f\",\"arrowhead\":0,\"arrowwidth\":1},\"geo\":{\"bgcolor\":\"white\",\"landcolor\":\"#E5ECF6\",\"subunitcolor\":\"white\",\"showland\":true,\"showlakes\":true,\"lakecolor\":\"white\"},\"title\":{\"x\":0.05},\"mapbox\":{\"style\":\"light\"}}},\"mapbox\":{\"domain\":{\"x\":[0.0,1.0],\"y\":[0.0,1.0]},\"center\":{\"lat\":47.3134410740517,\"lon\":-122.37850808151985},\"zoom\":6,\"style\":\"carto-positron\"},\"coloraxis\":{\"colorbar\":{\"title\":{\"text\":\"BUSINESS_OPEN_DATE\"}},\"colorscale\":[[0.0,\"#000000\"],[0.0625,\"#001f4d\"],[0.125,\"#003786\"],[0.1875,\"#0e58a8\"],[0.25,\"#217eb8\"],[0.3125,\"#30a4ca\"],[0.375,\"#54c8df\"],[0.4375,\"#9be4ef\"],[0.5,\"#e1e9d1\"],[0.5625,\"#f3d573\"],[0.625,\"#e7b000\"],[0.6875,\"#da8200\"],[0.75,\"#c65400\"],[0.8125,\"#ac2301\"],[0.875,\"#820000\"],[0.9375,\"#4c0000\"],[1.0,\"#000000\"]]},\"legend\":{\"tracegroupgap\":0},\"margin\":{\"t\":60}},                        {\"responsive\": true}                    ).then(function(){\n",
       "                            \n",
       "var gd = document.getElementById('327abf9f-4f8d-45ef-a725-b12714db9af9');\n",
       "var x = new MutationObserver(function (mutations, observer) {{\n",
       "        var display = window.getComputedStyle(gd).display;\n",
       "        if (!display || display === 'none') {{\n",
       "            console.log([gd, 'removed!']);\n",
       "            Plotly.purge(gd);\n",
       "            observer.disconnect();\n",
       "        }}\n",
       "}});\n",
       "\n",
       "// Listen for the removal of the full notebook cells\n",
       "var notebookContainer = gd.closest('#notebook-container');\n",
       "if (notebookContainer) {{\n",
       "    x.observe(notebookContainer, {childList: true});\n",
       "}}\n",
       "\n",
       "// Listen for the clearing of the current output cell\n",
       "var outputEl = gd.closest('.output');\n",
       "if (outputEl) {{\n",
       "    x.observe(outputEl, {childList: true});\n",
       "}}\n",
       "\n",
       "                        })                };                });            </script>        </div>"
      ]
     },
     "metadata": {},
     "output_type": "display_data"
    }
   ],
   "source": [
    "import plotly.express as px\n",
    "\n",
    "fig = px.scatter_mapbox(taxi4, lat=\"lat\", \n",
    "                        lon=\"long\", color=\"BUSINESS_OPEN_DATE\", \n",
    "                        color_continuous_scale=px.colors.cyclical.IceFire, \n",
    "                        zoom=6, mapbox_style=\"carto-positron\")\n",
    "fig.show()"
   ]
  },
  {
   "cell_type": "markdown",
   "id": "7e278738",
   "metadata": {},
   "source": [
    "Alright, we've made a map. We've gone from ~29k data points to ~500. We've thrown up colors based on unprocessed data... etc.\n",
    "\n",
    "We've made a lot of choices and that's ok. But, the basic framework is intact:\n",
    "1. Set up an environment with the libraries you need.\n",
    "2. Acquire some data and process it (geocode, reformat, etc.)\n",
    "3. Visualize\n",
    "\n",
    "\n",
    "But, all of that was rather finicky. Now, I want to show you how to use [ChatGPT](https://chat.openai.com/) to generate geodataframe data and visualize it. ChatGPT can be finicky (and sometimes, or even often, outright incorrect), but it can also be really handy if you want to get some data and code working quickly. Below are the intstructions I gave it (including a response when its original code produced an error).\n",
    "\n",
    "Notice that I am using Open Street Map data here. ChatGPT can work with other data sets and you should explore which ones would make sense for you (could you get it to work with the Tacoma dataset? The answer is yes, but not by directly asking for it to produce a query for the Tacoma API, but by specifying the form of the API and then doing a bit of modifying yourself).\n"
   ]
  },
  {
   "cell_type": "markdown",
   "id": "1c95f67f",
   "metadata": {},
   "source": [
    "> Using python and overpy, can you write a query for overpass turbo that will return the location of all bars within the Boston city limits as a geopandas dataframe?\n",
    "\n",
    "(resulting code returned an error, I copied the error into the interface)\n",
    "\n",
    "> I'm getting the following error with the above code, can you fix it?\n",
    "\n",
    "> ---------------------------------------------------------------------------\n",
    "AttributeError                            Traceback (most recent call last)\n",
    "Cell In[2], line 24\n",
    "     22 # Extract the location data from the response\n",
    "     23 data = []\n",
    "---> 24 for element in response.elements:\n",
    "     25     if element.type == \"node\":\n",
    "     26         lon = element.lon\n",
    "\n",
    "> AttributeError: 'Result' object has no attribute 'elements'\n",
    "\n",
    "\n",
    "The following code was the result, try running it.\n",
    "\n",
    "\n"
   ]
  },
  {
   "cell_type": "code",
   "execution_count": 44,
   "id": "8a726b5e",
   "metadata": {},
   "outputs": [
    {
     "name": "stdout",
     "output_type": "stream",
     "text": [
      "                      geometry\n",
      "0   POINT (-71.06529 42.34364)\n",
      "1   POINT (-71.07530 42.34223)\n",
      "2   POINT (-71.04330 42.34616)\n",
      "3   POINT (-71.04316 42.34627)\n",
      "4   POINT (-71.09671 42.34704)\n",
      "..                         ...\n",
      "92  POINT (-71.05967 42.35751)\n",
      "93  POINT (-71.05562 42.35431)\n",
      "94  POINT (-71.06462 42.35152)\n",
      "95  POINT (-71.06466 42.35135)\n",
      "96  POINT (-71.06476 42.35090)\n",
      "\n",
      "[97 rows x 1 columns]\n"
     ]
    }
   ],
   "source": [
    "import overpy\n",
    "import geopandas as gpd\n",
    "\n",
    "# Create an Overpass API object\n",
    "api = overpy.Overpass()\n",
    "\n",
    "# Define the query for bars within Boston city limits\n",
    "query = \"\"\"\n",
    "[out:json];\n",
    "area[name=\"Boston\"]->.a;\n",
    "(\n",
    "  node[\"amenity\"=\"bar\"](area.a);\n",
    "  way[\"amenity\"=\"bar\"](area.a);\n",
    "  relation[\"amenity\"=\"bar\"](area.a);\n",
    ");\n",
    "out center;\n",
    "\"\"\"\n",
    "\n",
    "# Send the query to Overpass API\n",
    "result = api.query(query)\n",
    "\n",
    "# Process the query result and extract coordinates\n",
    "coordinates = []\n",
    "for element in result.nodes + result.ways + result.relations:\n",
    "    if hasattr(element, 'lat') and hasattr(element, 'lon'):\n",
    "        lat = element.lat\n",
    "        lon = element.lon\n",
    "        coordinates.append((lat, lon))\n",
    "    elif hasattr(element, 'center'):\n",
    "        lat = element.center.lat\n",
    "        lon = element.center.lon\n",
    "        coordinates.append((lat, lon))\n",
    "\n",
    "# Create a GeoPandas DataFrame from the coordinates\n",
    "df = gpd.GeoDataFrame(geometry=gpd.points_from_xy([c[1] for c in coordinates], [c[0] for c in coordinates]))\n",
    "\n",
    "# Set the coordinate reference system (CRS) to WGS84 (EPSG:4326)\n",
    "df.crs = \"EPSG:4326\"\n",
    "\n",
    "# Print the resulting DataFrame\n",
    "print(df)\n",
    "\n"
   ]
  },
  {
   "cell_type": "markdown",
   "id": "fcbad8bd",
   "metadata": {},
   "source": [
    "That's cool and all, but it is solely the point information. Let's ask it to split out the lat and lon data (not necessary, but makes pyplot a touch easier) and to add the bars' names...\n",
    "\n",
    "> Please add columns for latitude and longitude separately and add the bars' names to the dataset as string values\n",
    "\n",
    "This produces a ValueError where it had defined the 'name' to be a string, I asked it to correct that and got the following code after a bit of back and forth (please note, I could have corrected the error myself; but, the point is that I did not need to):"
   ]
  },
  {
   "cell_type": "code",
   "execution_count": 45,
   "id": "82bf8ac6",
   "metadata": {},
   "outputs": [
    {
     "name": "stdout",
     "output_type": "stream",
     "text": [
      "                 Name    Latitude    Longitude                    geometry\n",
      "0   J.J. Foley's Cafe  42.3436416  -71.0652939  POINT (-71.06529 42.34364)\n",
      "1        Sister Sorel  42.3422326  -71.0752954  POINT (-71.07530 42.34223)\n",
      "2           Birch Bar  42.3461583  -71.0433047  POINT (-71.04330 42.34616)\n",
      "3            City Bar  42.3462734  -71.0431626  POINT (-71.04316 42.34627)\n",
      "4        Bleacher Bar  42.3470437  -71.0967137  POINT (-71.09671 42.34704)\n",
      "..                ...         ...          ...                         ...\n",
      "92        haley.henry  42.3575054  -71.0596738  POINT (-71.05967 42.35751)\n",
      "93        Bubble Bath  42.3543113  -71.0556163  POINT (-71.05562 42.35431)\n",
      "94            The Tam  42.3515157  -71.0646200  POINT (-71.06462 42.35152)\n",
      "95           4th Wall  42.3513531  -71.0646629  POINT (-71.06466 42.35135)\n",
      "96           Bar Moxy  42.3509022  -71.0647555  POINT (-71.06476 42.35090)\n",
      "\n",
      "[97 rows x 4 columns]\n"
     ]
    }
   ],
   "source": [
    "import overpy\n",
    "import geopandas as gpd\n",
    "\n",
    "# Create an Overpass API object\n",
    "api = overpy.Overpass()\n",
    "\n",
    "# Define the query for bars within Boston city limits\n",
    "query = \"\"\"\n",
    "[out:json];\n",
    "area[name=\"Boston\"]->.a;\n",
    "(\n",
    "  node[\"amenity\"=\"bar\"](area.a);\n",
    "  way[\"amenity\"=\"bar\"](area.a);\n",
    "  relation[\"amenity\"=\"bar\"](area.a);\n",
    ");\n",
    "out center;\n",
    "\"\"\"\n",
    "\n",
    "# Send the query to Overpass API\n",
    "result = api.query(query)\n",
    "\n",
    "# Process the query result and extract coordinates and names\n",
    "data = []\n",
    "for element in result.nodes + result.ways + result.relations:\n",
    "    if hasattr(element, 'tags') and 'name' in element.tags:\n",
    "        name = element.tags['name']\n",
    "    else:\n",
    "        name = 'Unnamed Bar'\n",
    "        \n",
    "    if hasattr(element, 'lat') and hasattr(element, 'lon'):\n",
    "        lat = element.lat\n",
    "        lon = element.lon\n",
    "        data.append({'Name': name, 'Latitude': lat, 'Longitude': lon})\n",
    "    elif hasattr(element, 'center'):\n",
    "        lat = element.center.lat\n",
    "        lon = element.center.lon\n",
    "        data.append({'Name': name, 'Latitude': lat, 'Longitude': lon})\n",
    "\n",
    "# Create a GeoPandas DataFrame from the data\n",
    "df = gpd.GeoDataFrame(data, geometry=gpd.points_from_xy([d['Longitude'] for d in data], [d['Latitude'] for d in data]))\n",
    "\n",
    "# Set the coordinate reference system (CRS) to WGS84 (EPSG:4326)\n",
    "df.crs = \"EPSG:4326\"\n",
    "\n",
    "# Print the resulting DataFrame\n",
    "print(df)\n",
    "\n",
    "\n"
   ]
  },
  {
   "cell_type": "markdown",
   "id": "e77a87f4",
   "metadata": {},
   "source": [
    "Now, I'm going to ask it to visualize the results as a mapbox scatterplot using plotly express, at zoom 8, and centered on boston:\n",
    "\n",
    "> Can you visualize the resulting data as a mapbox-tile scatterplot using pyplot express at zoom 8 and centered on Boston?\n"
   ]
  },
  {
   "cell_type": "code",
   "execution_count": 48,
   "id": "da48410c",
   "metadata": {},
   "outputs": [
    {
     "data": {
      "application/vnd.plotly.v1+json": {
       "config": {
        "plotlyServerURL": "https://plot.ly"
       },
       "data": [
        {
         "hovertemplate": "<b>%{hovertext}</b><br><br>Latitude=%{lat}<br>Longitude=%{lon}<extra></extra>",
         "hovertext": [
          "J.J. Foley's Cafe",
          "Sister Sorel",
          "Birch Bar",
          "City Bar",
          "Bleacher Bar",
          "Lucky's Lounge",
          "Howl at the Moon",
          "Cityside",
          "Mary Ann's",
          "jm Curley",
          "The Squealing Pig",
          "Murphy's Law",
          "Boston Bruins",
          "Beacon Hill Pub",
          "Sullivan's Tap",
          "Barracuda Tavern",
          "Silvertone",
          "TT Bar",
          "American Airlines Admirals Club",
          "White Bull Tavern",
          "The Ginger Man",
          "Cheers Faneuil Hall",
          "Lookout Rooftop & Bar",
          "Capiz Bar & Lounge",
          "Loretta's Last Call",
          "Hopewell Bar + Kitchen",
          "The Avenue",
          "The Silhouette Lounge",
          "Dugout Cafe",
          "McGann's Irish Pub",
          "McGreevy's",
          "Durty Nelly's",
          "JJ Foleys Bar & Grille",
          "Roxanne's",
          "Sam Adams",
          "Brendan Behan",
          "Samuel Adams Brewhouse",
          "Bier Bar",
          "The Lounge",
          "Mast'",
          "Stoddard's Fine Food & Ale",
          "Sidebar",
          "J.J. Foley's Fireside Tavern",
          "Harpoon Brewery Beer Hall",
          "J.J. Donovan's Tavern",
          "MIJA Cantina",
          "Hennessey's",
          "Downeast Cider",
          "Fosdyke Playing Field & Club",
          "Kirton Holme Golf Club",
          "Graves Park Social Club",
          "Kirton Bowling Club",
          "Boston West Golf Centre",
          "Orchard Park Caravan Park Club Room",
          "SPC",
          "Browns Cocktail Bar",
          "Jo's Salsa Bar",
          "Boston Central Racing Pigeon",
          "Wyberton Sports And Social Club",
          "Sports Lounge Bar",
          "Samba Brazil",
          "Burton House Bowling Club",
          "Lolita",
          "The Pour House",
          "Lir",
          "Cask 'n Flagon",
          "SOJUba",
          "Bill's Bar",
          "Foundation Room",
          "Carrie Nation",
          "Bostonia Public House",
          "Eddie C's",
          "Dorchester Brewing Company",
          "The Landing at Long Wharf",
          "Fool's Errand",
          "The Deck on Lansdowne",
          "The Kenmore",
          "Guy Fieri’s Tequila Cocina",
          "Better Sorts Social Club",
          "Shore Leave",
          "VERSUS",
          "Jacque's Cabaret",
          "Bilares",
          "Stanza dei Sigari",
          "Shamrock Pub",
          "O'Brien's Pub",
          "Model Cafe",
          "Club Café",
          "Unnamed Bar",
          "City Winery",
          "City Tap",
          "Wig Shop",
          "haley.henry",
          "Bubble Bath",
          "The Tam",
          "4th Wall",
          "Bar Moxy"
         ],
         "lat": [
          42.3436416,
          42.3422326,
          42.3461583,
          42.3462734,
          42.3470437,
          42.350181,
          42.3565905,
          42.3363699,
          42.3359182,
          42.3552498,
          42.3347313,
          42.3380229,
          42.3617779,
          42.3604302,
          42.3651059,
          42.3571582,
          42.3571207,
          42.3148536,
          42.3620632,
          42.3607148,
          42.3593344,
          42.3600431,
          42.353879,
          42.3479524,
          42.3473311,
          42.3496646,
          42.3501476,
          42.3531162,
          42.3496292,
          42.3644568,
          42.3483721,
          42.3616934,
          42.353753,
          42.3581795,
          42.3144447,
          42.322003,
          42.3617479,
          42.3606813,
          42.3679938,
          42.3571096,
          42.3551443,
          42.356523,
          42.2992125,
          42.347508,
          42.3604815,
          42.3603045,
          42.3609935,
          42.3641557,
          52.8777715,
          52.9590444,
          52.9268116,
          52.9314536,
          52.9767814,
          52.9715289,
          52.9783109,
          52.9779814,
          52.9795423,
          52.9784772,
          52.9520429,
          52.9765482,
          52.9762929,
          52.987672,
          42.3506853,
          42.348395,
          42.3484206,
          42.347316,
          42.3452714,
          42.3473233,
          42.3474068,
          42.3583818,
          42.359154,
          42.3699196,
          42.3221646,
          42.359781,
          42.3439541,
          42.3474367,
          42.3485631,
          42.3659293,
          42.3574423,
          42.345422,
          42.3568636,
          42.3499774,
          42.3753225,
          42.3641002,
          42.3312526,
          42.3552418,
          42.3537515,
          42.3483941,
          42.3357629,
          42.3640637,
          42.3501043,
          42.3551912,
          42.3575054,
          42.3543113,
          42.3515157,
          42.3513531,
          42.3509022
         ],
         "legendgroup": "",
         "lon": [
          -71.0652939,
          -71.0752954,
          -71.0433047,
          -71.0431626,
          -71.0967137,
          -71.04844,
          -71.0527728,
          -71.1504142,
          -71.1492734,
          -71.0623372,
          -71.1020151,
          -71.0356837,
          -71.0251466,
          -71.070636,
          -71.0609947,
          -71.0607809,
          -71.0609359,
          -71.1142543,
          -71.019718,
          -71.0567346,
          -71.054186,
          -71.0554328,
          -71.0482573,
          -71.0396228,
          -71.0945338,
          -71.1332775,
          -71.132104,
          -71.1343879,
          -71.1059547,
          -71.0617544,
          -71.0843802,
          -71.0565718,
          -71.0590633,
          -71.0615308,
          -71.1032234,
          -71.1093643,
          -71.020303,
          -71.0505201,
          -71.0151732,
          -71.0600365,
          -71.0616993,
          -71.0600136,
          -71.1138118,
          -71.0337861,
          -71.054952,
          -71.0554557,
          -71.0568027,
          -71.0322106,
          -0.0412899,
          -0.1199645,
          -0.0524935,
          -0.0594699,
          -0.1128245,
          -0.1058561,
          -0.0192502,
          -0.0232923,
          -0.0242109,
          -0.0173995,
          -0.0351101,
          -0.0243489,
          -0.0283536,
          -0.0030094,
          -71.0774037,
          -71.0842934,
          -71.0842079,
          -71.098196,
          -71.0963611,
          -71.0949032,
          -71.0959362,
          -71.061713,
          -71.0544674,
          -71.0392831,
          -71.0625839,
          -71.0503275,
          -71.1009542,
          -71.0974877,
          -71.0938602,
          -71.0614468,
          -71.0607367,
          -71.064269,
          -71.0599611,
          -71.0674461,
          -71.0380734,
          -71.0543402,
          -71.0412714,
          -71.1328691,
          -71.1376907,
          -71.0723921,
          -71.0452964,
          -71.0586667,
          -71.0471447,
          -71.0622169,
          -71.0596738,
          -71.0556163,
          -71.06462,
          -71.0646629,
          -71.0647555
         ],
         "marker": {
          "color": "#636efa"
         },
         "mode": "markers",
         "name": "",
         "showlegend": false,
         "subplot": "mapbox",
         "type": "scattermapbox"
        }
       ],
       "layout": {
        "legend": {
         "tracegroupgap": 0
        },
        "mapbox": {
         "center": {
          "lat": 42.3601,
          "lon": -71.0589
         },
         "domain": {
          "x": [
           0,
           1
          ],
          "y": [
           0,
           1
          ]
         },
         "style": "open-street-map",
         "zoom": 12
        },
        "margin": {
         "t": 60
        },
        "template": {
         "data": {
          "bar": [
           {
            "error_x": {
             "color": "#2a3f5f"
            },
            "error_y": {
             "color": "#2a3f5f"
            },
            "marker": {
             "line": {
              "color": "#E5ECF6",
              "width": 0.5
             },
             "pattern": {
              "fillmode": "overlay",
              "size": 10,
              "solidity": 0.2
             }
            },
            "type": "bar"
           }
          ],
          "barpolar": [
           {
            "marker": {
             "line": {
              "color": "#E5ECF6",
              "width": 0.5
             },
             "pattern": {
              "fillmode": "overlay",
              "size": 10,
              "solidity": 0.2
             }
            },
            "type": "barpolar"
           }
          ],
          "carpet": [
           {
            "aaxis": {
             "endlinecolor": "#2a3f5f",
             "gridcolor": "white",
             "linecolor": "white",
             "minorgridcolor": "white",
             "startlinecolor": "#2a3f5f"
            },
            "baxis": {
             "endlinecolor": "#2a3f5f",
             "gridcolor": "white",
             "linecolor": "white",
             "minorgridcolor": "white",
             "startlinecolor": "#2a3f5f"
            },
            "type": "carpet"
           }
          ],
          "choropleth": [
           {
            "colorbar": {
             "outlinewidth": 0,
             "ticks": ""
            },
            "type": "choropleth"
           }
          ],
          "contour": [
           {
            "colorbar": {
             "outlinewidth": 0,
             "ticks": ""
            },
            "colorscale": [
             [
              0,
              "#0d0887"
             ],
             [
              0.1111111111111111,
              "#46039f"
             ],
             [
              0.2222222222222222,
              "#7201a8"
             ],
             [
              0.3333333333333333,
              "#9c179e"
             ],
             [
              0.4444444444444444,
              "#bd3786"
             ],
             [
              0.5555555555555556,
              "#d8576b"
             ],
             [
              0.6666666666666666,
              "#ed7953"
             ],
             [
              0.7777777777777778,
              "#fb9f3a"
             ],
             [
              0.8888888888888888,
              "#fdca26"
             ],
             [
              1,
              "#f0f921"
             ]
            ],
            "type": "contour"
           }
          ],
          "contourcarpet": [
           {
            "colorbar": {
             "outlinewidth": 0,
             "ticks": ""
            },
            "type": "contourcarpet"
           }
          ],
          "heatmap": [
           {
            "colorbar": {
             "outlinewidth": 0,
             "ticks": ""
            },
            "colorscale": [
             [
              0,
              "#0d0887"
             ],
             [
              0.1111111111111111,
              "#46039f"
             ],
             [
              0.2222222222222222,
              "#7201a8"
             ],
             [
              0.3333333333333333,
              "#9c179e"
             ],
             [
              0.4444444444444444,
              "#bd3786"
             ],
             [
              0.5555555555555556,
              "#d8576b"
             ],
             [
              0.6666666666666666,
              "#ed7953"
             ],
             [
              0.7777777777777778,
              "#fb9f3a"
             ],
             [
              0.8888888888888888,
              "#fdca26"
             ],
             [
              1,
              "#f0f921"
             ]
            ],
            "type": "heatmap"
           }
          ],
          "heatmapgl": [
           {
            "colorbar": {
             "outlinewidth": 0,
             "ticks": ""
            },
            "colorscale": [
             [
              0,
              "#0d0887"
             ],
             [
              0.1111111111111111,
              "#46039f"
             ],
             [
              0.2222222222222222,
              "#7201a8"
             ],
             [
              0.3333333333333333,
              "#9c179e"
             ],
             [
              0.4444444444444444,
              "#bd3786"
             ],
             [
              0.5555555555555556,
              "#d8576b"
             ],
             [
              0.6666666666666666,
              "#ed7953"
             ],
             [
              0.7777777777777778,
              "#fb9f3a"
             ],
             [
              0.8888888888888888,
              "#fdca26"
             ],
             [
              1,
              "#f0f921"
             ]
            ],
            "type": "heatmapgl"
           }
          ],
          "histogram": [
           {
            "marker": {
             "pattern": {
              "fillmode": "overlay",
              "size": 10,
              "solidity": 0.2
             }
            },
            "type": "histogram"
           }
          ],
          "histogram2d": [
           {
            "colorbar": {
             "outlinewidth": 0,
             "ticks": ""
            },
            "colorscale": [
             [
              0,
              "#0d0887"
             ],
             [
              0.1111111111111111,
              "#46039f"
             ],
             [
              0.2222222222222222,
              "#7201a8"
             ],
             [
              0.3333333333333333,
              "#9c179e"
             ],
             [
              0.4444444444444444,
              "#bd3786"
             ],
             [
              0.5555555555555556,
              "#d8576b"
             ],
             [
              0.6666666666666666,
              "#ed7953"
             ],
             [
              0.7777777777777778,
              "#fb9f3a"
             ],
             [
              0.8888888888888888,
              "#fdca26"
             ],
             [
              1,
              "#f0f921"
             ]
            ],
            "type": "histogram2d"
           }
          ],
          "histogram2dcontour": [
           {
            "colorbar": {
             "outlinewidth": 0,
             "ticks": ""
            },
            "colorscale": [
             [
              0,
              "#0d0887"
             ],
             [
              0.1111111111111111,
              "#46039f"
             ],
             [
              0.2222222222222222,
              "#7201a8"
             ],
             [
              0.3333333333333333,
              "#9c179e"
             ],
             [
              0.4444444444444444,
              "#bd3786"
             ],
             [
              0.5555555555555556,
              "#d8576b"
             ],
             [
              0.6666666666666666,
              "#ed7953"
             ],
             [
              0.7777777777777778,
              "#fb9f3a"
             ],
             [
              0.8888888888888888,
              "#fdca26"
             ],
             [
              1,
              "#f0f921"
             ]
            ],
            "type": "histogram2dcontour"
           }
          ],
          "mesh3d": [
           {
            "colorbar": {
             "outlinewidth": 0,
             "ticks": ""
            },
            "type": "mesh3d"
           }
          ],
          "parcoords": [
           {
            "line": {
             "colorbar": {
              "outlinewidth": 0,
              "ticks": ""
             }
            },
            "type": "parcoords"
           }
          ],
          "pie": [
           {
            "automargin": true,
            "type": "pie"
           }
          ],
          "scatter": [
           {
            "fillpattern": {
             "fillmode": "overlay",
             "size": 10,
             "solidity": 0.2
            },
            "type": "scatter"
           }
          ],
          "scatter3d": [
           {
            "line": {
             "colorbar": {
              "outlinewidth": 0,
              "ticks": ""
             }
            },
            "marker": {
             "colorbar": {
              "outlinewidth": 0,
              "ticks": ""
             }
            },
            "type": "scatter3d"
           }
          ],
          "scattercarpet": [
           {
            "marker": {
             "colorbar": {
              "outlinewidth": 0,
              "ticks": ""
             }
            },
            "type": "scattercarpet"
           }
          ],
          "scattergeo": [
           {
            "marker": {
             "colorbar": {
              "outlinewidth": 0,
              "ticks": ""
             }
            },
            "type": "scattergeo"
           }
          ],
          "scattergl": [
           {
            "marker": {
             "colorbar": {
              "outlinewidth": 0,
              "ticks": ""
             }
            },
            "type": "scattergl"
           }
          ],
          "scattermapbox": [
           {
            "marker": {
             "colorbar": {
              "outlinewidth": 0,
              "ticks": ""
             }
            },
            "type": "scattermapbox"
           }
          ],
          "scatterpolar": [
           {
            "marker": {
             "colorbar": {
              "outlinewidth": 0,
              "ticks": ""
             }
            },
            "type": "scatterpolar"
           }
          ],
          "scatterpolargl": [
           {
            "marker": {
             "colorbar": {
              "outlinewidth": 0,
              "ticks": ""
             }
            },
            "type": "scatterpolargl"
           }
          ],
          "scatterternary": [
           {
            "marker": {
             "colorbar": {
              "outlinewidth": 0,
              "ticks": ""
             }
            },
            "type": "scatterternary"
           }
          ],
          "surface": [
           {
            "colorbar": {
             "outlinewidth": 0,
             "ticks": ""
            },
            "colorscale": [
             [
              0,
              "#0d0887"
             ],
             [
              0.1111111111111111,
              "#46039f"
             ],
             [
              0.2222222222222222,
              "#7201a8"
             ],
             [
              0.3333333333333333,
              "#9c179e"
             ],
             [
              0.4444444444444444,
              "#bd3786"
             ],
             [
              0.5555555555555556,
              "#d8576b"
             ],
             [
              0.6666666666666666,
              "#ed7953"
             ],
             [
              0.7777777777777778,
              "#fb9f3a"
             ],
             [
              0.8888888888888888,
              "#fdca26"
             ],
             [
              1,
              "#f0f921"
             ]
            ],
            "type": "surface"
           }
          ],
          "table": [
           {
            "cells": {
             "fill": {
              "color": "#EBF0F8"
             },
             "line": {
              "color": "white"
             }
            },
            "header": {
             "fill": {
              "color": "#C8D4E3"
             },
             "line": {
              "color": "white"
             }
            },
            "type": "table"
           }
          ]
         },
         "layout": {
          "annotationdefaults": {
           "arrowcolor": "#2a3f5f",
           "arrowhead": 0,
           "arrowwidth": 1
          },
          "autotypenumbers": "strict",
          "coloraxis": {
           "colorbar": {
            "outlinewidth": 0,
            "ticks": ""
           }
          },
          "colorscale": {
           "diverging": [
            [
             0,
             "#8e0152"
            ],
            [
             0.1,
             "#c51b7d"
            ],
            [
             0.2,
             "#de77ae"
            ],
            [
             0.3,
             "#f1b6da"
            ],
            [
             0.4,
             "#fde0ef"
            ],
            [
             0.5,
             "#f7f7f7"
            ],
            [
             0.6,
             "#e6f5d0"
            ],
            [
             0.7,
             "#b8e186"
            ],
            [
             0.8,
             "#7fbc41"
            ],
            [
             0.9,
             "#4d9221"
            ],
            [
             1,
             "#276419"
            ]
           ],
           "sequential": [
            [
             0,
             "#0d0887"
            ],
            [
             0.1111111111111111,
             "#46039f"
            ],
            [
             0.2222222222222222,
             "#7201a8"
            ],
            [
             0.3333333333333333,
             "#9c179e"
            ],
            [
             0.4444444444444444,
             "#bd3786"
            ],
            [
             0.5555555555555556,
             "#d8576b"
            ],
            [
             0.6666666666666666,
             "#ed7953"
            ],
            [
             0.7777777777777778,
             "#fb9f3a"
            ],
            [
             0.8888888888888888,
             "#fdca26"
            ],
            [
             1,
             "#f0f921"
            ]
           ],
           "sequentialminus": [
            [
             0,
             "#0d0887"
            ],
            [
             0.1111111111111111,
             "#46039f"
            ],
            [
             0.2222222222222222,
             "#7201a8"
            ],
            [
             0.3333333333333333,
             "#9c179e"
            ],
            [
             0.4444444444444444,
             "#bd3786"
            ],
            [
             0.5555555555555556,
             "#d8576b"
            ],
            [
             0.6666666666666666,
             "#ed7953"
            ],
            [
             0.7777777777777778,
             "#fb9f3a"
            ],
            [
             0.8888888888888888,
             "#fdca26"
            ],
            [
             1,
             "#f0f921"
            ]
           ]
          },
          "colorway": [
           "#636efa",
           "#EF553B",
           "#00cc96",
           "#ab63fa",
           "#FFA15A",
           "#19d3f3",
           "#FF6692",
           "#B6E880",
           "#FF97FF",
           "#FECB52"
          ],
          "font": {
           "color": "#2a3f5f"
          },
          "geo": {
           "bgcolor": "white",
           "lakecolor": "white",
           "landcolor": "#E5ECF6",
           "showlakes": true,
           "showland": true,
           "subunitcolor": "white"
          },
          "hoverlabel": {
           "align": "left"
          },
          "hovermode": "closest",
          "mapbox": {
           "style": "light"
          },
          "paper_bgcolor": "white",
          "plot_bgcolor": "#E5ECF6",
          "polar": {
           "angularaxis": {
            "gridcolor": "white",
            "linecolor": "white",
            "ticks": ""
           },
           "bgcolor": "#E5ECF6",
           "radialaxis": {
            "gridcolor": "white",
            "linecolor": "white",
            "ticks": ""
           }
          },
          "scene": {
           "xaxis": {
            "backgroundcolor": "#E5ECF6",
            "gridcolor": "white",
            "gridwidth": 2,
            "linecolor": "white",
            "showbackground": true,
            "ticks": "",
            "zerolinecolor": "white"
           },
           "yaxis": {
            "backgroundcolor": "#E5ECF6",
            "gridcolor": "white",
            "gridwidth": 2,
            "linecolor": "white",
            "showbackground": true,
            "ticks": "",
            "zerolinecolor": "white"
           },
           "zaxis": {
            "backgroundcolor": "#E5ECF6",
            "gridcolor": "white",
            "gridwidth": 2,
            "linecolor": "white",
            "showbackground": true,
            "ticks": "",
            "zerolinecolor": "white"
           }
          },
          "shapedefaults": {
           "line": {
            "color": "#2a3f5f"
           }
          },
          "ternary": {
           "aaxis": {
            "gridcolor": "white",
            "linecolor": "white",
            "ticks": ""
           },
           "baxis": {
            "gridcolor": "white",
            "linecolor": "white",
            "ticks": ""
           },
           "bgcolor": "#E5ECF6",
           "caxis": {
            "gridcolor": "white",
            "linecolor": "white",
            "ticks": ""
           }
          },
          "title": {
           "x": 0.05
          },
          "xaxis": {
           "automargin": true,
           "gridcolor": "white",
           "linecolor": "white",
           "ticks": "",
           "title": {
            "standoff": 15
           },
           "zerolinecolor": "white",
           "zerolinewidth": 2
          },
          "yaxis": {
           "automargin": true,
           "gridcolor": "white",
           "linecolor": "white",
           "ticks": "",
           "title": {
            "standoff": 15
           },
           "zerolinecolor": "white",
           "zerolinewidth": 2
          }
         }
        }
       }
      },
      "text/html": [
       "<div>                            <div id=\"e8306b74-9b87-48ff-9724-0e7c2f52f0c3\" class=\"plotly-graph-div\" style=\"height:525px; width:100%;\"></div>            <script type=\"text/javascript\">                require([\"plotly\"], function(Plotly) {                    window.PLOTLYENV=window.PLOTLYENV || {};                                    if (document.getElementById(\"e8306b74-9b87-48ff-9724-0e7c2f52f0c3\")) {                    Plotly.newPlot(                        \"e8306b74-9b87-48ff-9724-0e7c2f52f0c3\",                        [{\"hovertemplate\":\"\\u003cb\\u003e%{hovertext}\\u003c\\u002fb\\u003e\\u003cbr\\u003e\\u003cbr\\u003eLatitude=%{lat}\\u003cbr\\u003eLongitude=%{lon}\\u003cextra\\u003e\\u003c\\u002fextra\\u003e\",\"hovertext\":[\"J.J. Foley's Cafe\",\"Sister Sorel\",\"Birch Bar\",\"City Bar\",\"Bleacher Bar\",\"Lucky's Lounge\",\"Howl at the Moon\",\"Cityside\",\"Mary Ann's\",\"jm Curley\",\"The Squealing Pig\",\"Murphy's Law\",\"Boston Bruins\",\"Beacon Hill Pub\",\"Sullivan's Tap\",\"Barracuda Tavern\",\"Silvertone\",\"TT Bar\",\"American Airlines Admirals Club\",\"White Bull Tavern\",\"The Ginger Man\",\"Cheers Faneuil Hall\",\"Lookout Rooftop & Bar\",\"Capiz Bar & Lounge\",\"Loretta's Last Call\",\"Hopewell Bar + Kitchen\",\"The Avenue\",\"The Silhouette Lounge\",\"Dugout Cafe\",\"McGann's Irish Pub\",\"McGreevy's\",\"Durty Nelly's\",\"JJ Foleys Bar & Grille\",\"Roxanne's\",\"Sam Adams\",\"Brendan Behan\",\"Samuel Adams Brewhouse\",\"Bier Bar\",\"The Lounge\",\"Mast'\",\"Stoddard's Fine Food & Ale\",\"Sidebar\",\"J.J. Foley's Fireside Tavern\",\"Harpoon Brewery Beer Hall\",\"J.J. Donovan's Tavern\",\"MIJA Cantina\",\"Hennessey's\",\"Downeast Cider\",\"Fosdyke Playing Field & Club\",\"Kirton Holme Golf Club\",\"Graves Park Social Club\",\"Kirton Bowling Club\",\"Boston West Golf Centre\",\"Orchard Park Caravan Park Club Room\",\"SPC\",\"Browns Cocktail Bar\",\"Jo's Salsa Bar\",\"Boston Central Racing Pigeon\",\"Wyberton Sports And Social Club\",\"Sports Lounge Bar\",\"Samba Brazil\",\"Burton House Bowling Club\",\"Lolita\",\"The Pour House\",\"Lir\",\"Cask 'n Flagon\",\"SOJUba\",\"Bill's Bar\",\"Foundation Room\",\"Carrie Nation\",\"Bostonia Public House\",\"Eddie C's\",\"Dorchester Brewing Company\",\"The Landing at Long Wharf\",\"Fool's Errand\",\"The Deck on Lansdowne\",\"The Kenmore\",\"Guy Fieri\\u2019s Tequila Cocina\",\"Better Sorts Social Club\",\"Shore Leave\",\"VERSUS\",\"Jacque's Cabaret\",\"Bilares\",\"Stanza dei Sigari\",\"Shamrock Pub\",\"O'Brien's Pub\",\"Model Cafe\",\"Club Caf\\u00e9\",\"Unnamed Bar\",\"City Winery\",\"City Tap\",\"Wig Shop\",\"haley.henry\",\"Bubble Bath\",\"The Tam\",\"4th Wall\",\"Bar Moxy\"],\"lat\":[42.3436416,42.3422326,42.3461583,42.3462734,42.3470437,42.350181,42.3565905,42.3363699,42.3359182,42.3552498,42.3347313,42.3380229,42.3617779,42.3604302,42.3651059,42.3571582,42.3571207,42.3148536,42.3620632,42.3607148,42.3593344,42.3600431,42.353879,42.3479524,42.3473311,42.3496646,42.3501476,42.3531162,42.3496292,42.3644568,42.3483721,42.3616934,42.353753,42.3581795,42.3144447,42.322003,42.3617479,42.3606813,42.3679938,42.3571096,42.3551443,42.356523,42.2992125,42.347508,42.3604815,42.3603045,42.3609935,42.3641557,52.8777715,52.9590444,52.9268116,52.9314536,52.9767814,52.9715289,52.9783109,52.9779814,52.9795423,52.9784772,52.9520429,52.9765482,52.9762929,52.987672,42.3506853,42.348395,42.3484206,42.347316,42.3452714,42.3473233,42.3474068,42.3583818,42.359154,42.3699196,42.3221646,42.359781,42.3439541,42.3474367,42.3485631,42.3659293,42.3574423,42.345422,42.3568636,42.3499774,42.3753225,42.3641002,42.3312526,42.3552418,42.3537515,42.3483941,42.3357629,42.3640637,42.3501043,42.3551912,42.3575054,42.3543113,42.3515157,42.3513531,42.3509022],\"legendgroup\":\"\",\"lon\":[-71.0652939,-71.0752954,-71.0433047,-71.0431626,-71.0967137,-71.04844,-71.0527728,-71.1504142,-71.1492734,-71.0623372,-71.1020151,-71.0356837,-71.0251466,-71.070636,-71.0609947,-71.0607809,-71.0609359,-71.1142543,-71.019718,-71.0567346,-71.054186,-71.0554328,-71.0482573,-71.0396228,-71.0945338,-71.1332775,-71.132104,-71.1343879,-71.1059547,-71.0617544,-71.0843802,-71.0565718,-71.0590633,-71.0615308,-71.1032234,-71.1093643,-71.020303,-71.0505201,-71.0151732,-71.0600365,-71.0616993,-71.0600136,-71.1138118,-71.0337861,-71.054952,-71.0554557,-71.0568027,-71.0322106,-0.0412899,-0.1199645,-0.0524935,-0.0594699,-0.1128245,-0.1058561,-0.0192502,-0.0232923,-0.0242109,-0.0173995,-0.0351101,-0.0243489,-0.0283536,-0.0030094,-71.0774037,-71.0842934,-71.0842079,-71.098196,-71.0963611,-71.0949032,-71.0959362,-71.061713,-71.0544674,-71.0392831,-71.0625839,-71.0503275,-71.1009542,-71.0974877,-71.0938602,-71.0614468,-71.0607367,-71.064269,-71.0599611,-71.0674461,-71.0380734,-71.0543402,-71.0412714,-71.1328691,-71.1376907,-71.0723921,-71.0452964,-71.0586667,-71.0471447,-71.0622169,-71.0596738,-71.0556163,-71.06462,-71.0646629,-71.0647555],\"marker\":{\"color\":\"#636efa\"},\"mode\":\"markers\",\"name\":\"\",\"showlegend\":false,\"subplot\":\"mapbox\",\"type\":\"scattermapbox\"}],                        {\"template\":{\"data\":{\"histogram2dcontour\":[{\"type\":\"histogram2dcontour\",\"colorbar\":{\"outlinewidth\":0,\"ticks\":\"\"},\"colorscale\":[[0.0,\"#0d0887\"],[0.1111111111111111,\"#46039f\"],[0.2222222222222222,\"#7201a8\"],[0.3333333333333333,\"#9c179e\"],[0.4444444444444444,\"#bd3786\"],[0.5555555555555556,\"#d8576b\"],[0.6666666666666666,\"#ed7953\"],[0.7777777777777778,\"#fb9f3a\"],[0.8888888888888888,\"#fdca26\"],[1.0,\"#f0f921\"]]}],\"choropleth\":[{\"type\":\"choropleth\",\"colorbar\":{\"outlinewidth\":0,\"ticks\":\"\"}}],\"histogram2d\":[{\"type\":\"histogram2d\",\"colorbar\":{\"outlinewidth\":0,\"ticks\":\"\"},\"colorscale\":[[0.0,\"#0d0887\"],[0.1111111111111111,\"#46039f\"],[0.2222222222222222,\"#7201a8\"],[0.3333333333333333,\"#9c179e\"],[0.4444444444444444,\"#bd3786\"],[0.5555555555555556,\"#d8576b\"],[0.6666666666666666,\"#ed7953\"],[0.7777777777777778,\"#fb9f3a\"],[0.8888888888888888,\"#fdca26\"],[1.0,\"#f0f921\"]]}],\"heatmap\":[{\"type\":\"heatmap\",\"colorbar\":{\"outlinewidth\":0,\"ticks\":\"\"},\"colorscale\":[[0.0,\"#0d0887\"],[0.1111111111111111,\"#46039f\"],[0.2222222222222222,\"#7201a8\"],[0.3333333333333333,\"#9c179e\"],[0.4444444444444444,\"#bd3786\"],[0.5555555555555556,\"#d8576b\"],[0.6666666666666666,\"#ed7953\"],[0.7777777777777778,\"#fb9f3a\"],[0.8888888888888888,\"#fdca26\"],[1.0,\"#f0f921\"]]}],\"heatmapgl\":[{\"type\":\"heatmapgl\",\"colorbar\":{\"outlinewidth\":0,\"ticks\":\"\"},\"colorscale\":[[0.0,\"#0d0887\"],[0.1111111111111111,\"#46039f\"],[0.2222222222222222,\"#7201a8\"],[0.3333333333333333,\"#9c179e\"],[0.4444444444444444,\"#bd3786\"],[0.5555555555555556,\"#d8576b\"],[0.6666666666666666,\"#ed7953\"],[0.7777777777777778,\"#fb9f3a\"],[0.8888888888888888,\"#fdca26\"],[1.0,\"#f0f921\"]]}],\"contourcarpet\":[{\"type\":\"contourcarpet\",\"colorbar\":{\"outlinewidth\":0,\"ticks\":\"\"}}],\"contour\":[{\"type\":\"contour\",\"colorbar\":{\"outlinewidth\":0,\"ticks\":\"\"},\"colorscale\":[[0.0,\"#0d0887\"],[0.1111111111111111,\"#46039f\"],[0.2222222222222222,\"#7201a8\"],[0.3333333333333333,\"#9c179e\"],[0.4444444444444444,\"#bd3786\"],[0.5555555555555556,\"#d8576b\"],[0.6666666666666666,\"#ed7953\"],[0.7777777777777778,\"#fb9f3a\"],[0.8888888888888888,\"#fdca26\"],[1.0,\"#f0f921\"]]}],\"surface\":[{\"type\":\"surface\",\"colorbar\":{\"outlinewidth\":0,\"ticks\":\"\"},\"colorscale\":[[0.0,\"#0d0887\"],[0.1111111111111111,\"#46039f\"],[0.2222222222222222,\"#7201a8\"],[0.3333333333333333,\"#9c179e\"],[0.4444444444444444,\"#bd3786\"],[0.5555555555555556,\"#d8576b\"],[0.6666666666666666,\"#ed7953\"],[0.7777777777777778,\"#fb9f3a\"],[0.8888888888888888,\"#fdca26\"],[1.0,\"#f0f921\"]]}],\"mesh3d\":[{\"type\":\"mesh3d\",\"colorbar\":{\"outlinewidth\":0,\"ticks\":\"\"}}],\"scatter\":[{\"fillpattern\":{\"fillmode\":\"overlay\",\"size\":10,\"solidity\":0.2},\"type\":\"scatter\"}],\"parcoords\":[{\"type\":\"parcoords\",\"line\":{\"colorbar\":{\"outlinewidth\":0,\"ticks\":\"\"}}}],\"scatterpolargl\":[{\"type\":\"scatterpolargl\",\"marker\":{\"colorbar\":{\"outlinewidth\":0,\"ticks\":\"\"}}}],\"bar\":[{\"error_x\":{\"color\":\"#2a3f5f\"},\"error_y\":{\"color\":\"#2a3f5f\"},\"marker\":{\"line\":{\"color\":\"#E5ECF6\",\"width\":0.5},\"pattern\":{\"fillmode\":\"overlay\",\"size\":10,\"solidity\":0.2}},\"type\":\"bar\"}],\"scattergeo\":[{\"type\":\"scattergeo\",\"marker\":{\"colorbar\":{\"outlinewidth\":0,\"ticks\":\"\"}}}],\"scatterpolar\":[{\"type\":\"scatterpolar\",\"marker\":{\"colorbar\":{\"outlinewidth\":0,\"ticks\":\"\"}}}],\"histogram\":[{\"marker\":{\"pattern\":{\"fillmode\":\"overlay\",\"size\":10,\"solidity\":0.2}},\"type\":\"histogram\"}],\"scattergl\":[{\"type\":\"scattergl\",\"marker\":{\"colorbar\":{\"outlinewidth\":0,\"ticks\":\"\"}}}],\"scatter3d\":[{\"type\":\"scatter3d\",\"line\":{\"colorbar\":{\"outlinewidth\":0,\"ticks\":\"\"}},\"marker\":{\"colorbar\":{\"outlinewidth\":0,\"ticks\":\"\"}}}],\"scattermapbox\":[{\"type\":\"scattermapbox\",\"marker\":{\"colorbar\":{\"outlinewidth\":0,\"ticks\":\"\"}}}],\"scatterternary\":[{\"type\":\"scatterternary\",\"marker\":{\"colorbar\":{\"outlinewidth\":0,\"ticks\":\"\"}}}],\"scattercarpet\":[{\"type\":\"scattercarpet\",\"marker\":{\"colorbar\":{\"outlinewidth\":0,\"ticks\":\"\"}}}],\"carpet\":[{\"aaxis\":{\"endlinecolor\":\"#2a3f5f\",\"gridcolor\":\"white\",\"linecolor\":\"white\",\"minorgridcolor\":\"white\",\"startlinecolor\":\"#2a3f5f\"},\"baxis\":{\"endlinecolor\":\"#2a3f5f\",\"gridcolor\":\"white\",\"linecolor\":\"white\",\"minorgridcolor\":\"white\",\"startlinecolor\":\"#2a3f5f\"},\"type\":\"carpet\"}],\"table\":[{\"cells\":{\"fill\":{\"color\":\"#EBF0F8\"},\"line\":{\"color\":\"white\"}},\"header\":{\"fill\":{\"color\":\"#C8D4E3\"},\"line\":{\"color\":\"white\"}},\"type\":\"table\"}],\"barpolar\":[{\"marker\":{\"line\":{\"color\":\"#E5ECF6\",\"width\":0.5},\"pattern\":{\"fillmode\":\"overlay\",\"size\":10,\"solidity\":0.2}},\"type\":\"barpolar\"}],\"pie\":[{\"automargin\":true,\"type\":\"pie\"}]},\"layout\":{\"autotypenumbers\":\"strict\",\"colorway\":[\"#636efa\",\"#EF553B\",\"#00cc96\",\"#ab63fa\",\"#FFA15A\",\"#19d3f3\",\"#FF6692\",\"#B6E880\",\"#FF97FF\",\"#FECB52\"],\"font\":{\"color\":\"#2a3f5f\"},\"hovermode\":\"closest\",\"hoverlabel\":{\"align\":\"left\"},\"paper_bgcolor\":\"white\",\"plot_bgcolor\":\"#E5ECF6\",\"polar\":{\"bgcolor\":\"#E5ECF6\",\"angularaxis\":{\"gridcolor\":\"white\",\"linecolor\":\"white\",\"ticks\":\"\"},\"radialaxis\":{\"gridcolor\":\"white\",\"linecolor\":\"white\",\"ticks\":\"\"}},\"ternary\":{\"bgcolor\":\"#E5ECF6\",\"aaxis\":{\"gridcolor\":\"white\",\"linecolor\":\"white\",\"ticks\":\"\"},\"baxis\":{\"gridcolor\":\"white\",\"linecolor\":\"white\",\"ticks\":\"\"},\"caxis\":{\"gridcolor\":\"white\",\"linecolor\":\"white\",\"ticks\":\"\"}},\"coloraxis\":{\"colorbar\":{\"outlinewidth\":0,\"ticks\":\"\"}},\"colorscale\":{\"sequential\":[[0.0,\"#0d0887\"],[0.1111111111111111,\"#46039f\"],[0.2222222222222222,\"#7201a8\"],[0.3333333333333333,\"#9c179e\"],[0.4444444444444444,\"#bd3786\"],[0.5555555555555556,\"#d8576b\"],[0.6666666666666666,\"#ed7953\"],[0.7777777777777778,\"#fb9f3a\"],[0.8888888888888888,\"#fdca26\"],[1.0,\"#f0f921\"]],\"sequentialminus\":[[0.0,\"#0d0887\"],[0.1111111111111111,\"#46039f\"],[0.2222222222222222,\"#7201a8\"],[0.3333333333333333,\"#9c179e\"],[0.4444444444444444,\"#bd3786\"],[0.5555555555555556,\"#d8576b\"],[0.6666666666666666,\"#ed7953\"],[0.7777777777777778,\"#fb9f3a\"],[0.8888888888888888,\"#fdca26\"],[1.0,\"#f0f921\"]],\"diverging\":[[0,\"#8e0152\"],[0.1,\"#c51b7d\"],[0.2,\"#de77ae\"],[0.3,\"#f1b6da\"],[0.4,\"#fde0ef\"],[0.5,\"#f7f7f7\"],[0.6,\"#e6f5d0\"],[0.7,\"#b8e186\"],[0.8,\"#7fbc41\"],[0.9,\"#4d9221\"],[1,\"#276419\"]]},\"xaxis\":{\"gridcolor\":\"white\",\"linecolor\":\"white\",\"ticks\":\"\",\"title\":{\"standoff\":15},\"zerolinecolor\":\"white\",\"automargin\":true,\"zerolinewidth\":2},\"yaxis\":{\"gridcolor\":\"white\",\"linecolor\":\"white\",\"ticks\":\"\",\"title\":{\"standoff\":15},\"zerolinecolor\":\"white\",\"automargin\":true,\"zerolinewidth\":2},\"scene\":{\"xaxis\":{\"backgroundcolor\":\"#E5ECF6\",\"gridcolor\":\"white\",\"linecolor\":\"white\",\"showbackground\":true,\"ticks\":\"\",\"zerolinecolor\":\"white\",\"gridwidth\":2},\"yaxis\":{\"backgroundcolor\":\"#E5ECF6\",\"gridcolor\":\"white\",\"linecolor\":\"white\",\"showbackground\":true,\"ticks\":\"\",\"zerolinecolor\":\"white\",\"gridwidth\":2},\"zaxis\":{\"backgroundcolor\":\"#E5ECF6\",\"gridcolor\":\"white\",\"linecolor\":\"white\",\"showbackground\":true,\"ticks\":\"\",\"zerolinecolor\":\"white\",\"gridwidth\":2}},\"shapedefaults\":{\"line\":{\"color\":\"#2a3f5f\"}},\"annotationdefaults\":{\"arrowcolor\":\"#2a3f5f\",\"arrowhead\":0,\"arrowwidth\":1},\"geo\":{\"bgcolor\":\"white\",\"landcolor\":\"#E5ECF6\",\"subunitcolor\":\"white\",\"showland\":true,\"showlakes\":true,\"lakecolor\":\"white\"},\"title\":{\"x\":0.05},\"mapbox\":{\"style\":\"light\"}}},\"mapbox\":{\"domain\":{\"x\":[0.0,1.0],\"y\":[0.0,1.0]},\"center\":{\"lat\":42.3601,\"lon\":-71.0589},\"zoom\":12,\"style\":\"open-street-map\"},\"legend\":{\"tracegroupgap\":0},\"margin\":{\"t\":60}},                        {\"responsive\": true}                    ).then(function(){\n",
       "                            \n",
       "var gd = document.getElementById('e8306b74-9b87-48ff-9724-0e7c2f52f0c3');\n",
       "var x = new MutationObserver(function (mutations, observer) {{\n",
       "        var display = window.getComputedStyle(gd).display;\n",
       "        if (!display || display === 'none') {{\n",
       "            console.log([gd, 'removed!']);\n",
       "            Plotly.purge(gd);\n",
       "            observer.disconnect();\n",
       "        }}\n",
       "}});\n",
       "\n",
       "// Listen for the removal of the full notebook cells\n",
       "var notebookContainer = gd.closest('#notebook-container');\n",
       "if (notebookContainer) {{\n",
       "    x.observe(notebookContainer, {childList: true});\n",
       "}}\n",
       "\n",
       "// Listen for the clearing of the current output cell\n",
       "var outputEl = gd.closest('.output');\n",
       "if (outputEl) {{\n",
       "    x.observe(outputEl, {childList: true});\n",
       "}}\n",
       "\n",
       "                        })                };                });            </script>        </div>"
      ]
     },
     "metadata": {},
     "output_type": "display_data"
    }
   ],
   "source": [
    "import overpy\n",
    "import geopandas as gpd\n",
    "import plotly.express as px\n",
    "\n",
    "# Create an Overpass API object\n",
    "api = overpy.Overpass()\n",
    "\n",
    "# Define the query for bars within Boston city limits\n",
    "query = \"\"\"\n",
    "[out:json];\n",
    "area[name=\"Boston\"]->.a;\n",
    "(\n",
    "  node[\"amenity\"=\"bar\"](area.a);\n",
    "  way[\"amenity\"=\"bar\"](area.a);\n",
    "  relation[\"amenity\"=\"bar\"](area.a);\n",
    ");\n",
    "out center;\n",
    "\"\"\"\n",
    "\n",
    "# Send the query to Overpass API\n",
    "result = api.query(query)\n",
    "\n",
    "# Process the query result and extract coordinates and names\n",
    "data = []\n",
    "for element in result.nodes + result.ways + result.relations:\n",
    "    if hasattr(element, 'tags') and 'name' in element.tags:\n",
    "        name = element.tags['name']\n",
    "    else:\n",
    "        name = 'Unnamed Bar'\n",
    "        \n",
    "    if hasattr(element, 'lat') and hasattr(element, 'lon'):\n",
    "        lat = element.lat\n",
    "        lon = element.lon\n",
    "        data.append({'Name': name, 'Latitude': lat, 'Longitude': lon})\n",
    "\n",
    "# Create a GeoPandas DataFrame from the data\n",
    "gdf = gpd.GeoDataFrame(data, geometry=gpd.points_from_xy([d['Longitude'] for d in data], [d['Latitude'] for d in data]))\n",
    "\n",
    "# Set the coordinate reference system (CRS) to WGS84 (EPSG:4326)\n",
    "gdf.crs = \"EPSG:4326\"\n",
    "\n",
    "# Define the center coordinates for Boston\n",
    "boston_center = {'lat': 42.3601, 'lon': -71.0589}\n",
    "\n",
    "# Plot the scatterplot using plotly express with Mapbox tiles\n",
    "fig = px.scatter_mapbox(gdf, lat='Latitude', lon='Longitude', hover_name='Name', zoom=12, center=boston_center)\n",
    "fig.update_layout(mapbox_style='open-street-map')\n",
    "fig.show()\n"
   ]
  },
  {
   "cell_type": "markdown",
   "id": "f4e88a93",
   "metadata": {},
   "source": [
    "## Ok, so now what?\n",
    "\n",
    "Well, now I want you all to think about a few things:\n",
    "1. Do you understand the code written by ChatGPT? Is it how you would write code? Did you understand the code that we walked through manually? Does the difference matter?\n",
    "2. Could you keep interacting with it to produce more and better visualizations and analysis (ask it to add different tiles, to bring in additional data, etc.)?\n",
    "3. What decisions is ChatGPT making? How does it elide choices we walked through (or does it)? What power relations does it normalize?\n",
    "\n",
    "There's a lot more to ask. There's a *ton* more to think through and potentially do. I don't have answers to any of the above; but, I would like to make clear a few things. I absolutely do not believe everyone needs to code or even interact with code, that's not what being a 'digital geographer' is about and I hope this workshop didn't give you that idea! I *do* think that thinking through what code is and what it does, how it shapes what we see and don't, how queries reflect data and how data (doesn't) reflect reality are fundamental questions.\n",
    "\n",
    "There's space for so many approaches, but here - at this tutorial - I hope I got you thinking about the decisions we make when we write code and what it means, a bit, to think with a corporate AI. What it enables and what it constrains.\n",
    "\n",
    "Cheers,\n",
    "\n",
    "Jim Thatcher\n",
    "\n",
    "Oregon State University\n"
   ]
  },
  {
   "cell_type": "code",
   "execution_count": null,
   "id": "da2460fc",
   "metadata": {},
   "outputs": [],
   "source": []
  }
 ],
 "metadata": {
  "kernelspec": {
   "display_name": "Python 3 (ipykernel)",
   "language": "python",
   "name": "python3"
  },
  "language_info": {
   "codemirror_mode": {
    "name": "ipython",
    "version": 3
   },
   "file_extension": ".py",
   "mimetype": "text/x-python",
   "name": "python",
   "nbconvert_exporter": "python",
   "pygments_lexer": "ipython3",
   "version": "3.8.16"
  }
 },
 "nbformat": 4,
 "nbformat_minor": 5
}
